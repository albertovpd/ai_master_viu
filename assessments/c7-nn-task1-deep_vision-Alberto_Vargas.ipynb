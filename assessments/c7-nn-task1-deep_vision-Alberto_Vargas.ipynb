{
 "cells": [
  {
   "cell_type": "markdown",
   "metadata": {
    "id": "MBUAws-AicPO"
   },
   "source": [
    "# Actividad 1: Deep Vision\n"
   ]
  },
  {
   "cell_type": "markdown",
   "metadata": {
    "id": "BhWjErKXWMTl"
   },
   "source": [
    "\n",
    "En esta actividad, el alumno debe evaluar y comparar dos estrategias para la clasificación de imágenes en el dataset Caltech 101. El dataset ha sido preprocesado y guardado utilizando pickle.\n",
    "\n",
    "### Estrategia 1: Red pre-entrenada\n",
    "\n",
    "La primera estrategia a comparar debe incluir la utilización de una red preentrenada con el dataset ImageNet, llevando a cabo tareas de *transfer learning* y *fine-tuning* para clasificar los objetos de Caltech 101. Deben compararse al menos dos tipos de arquitecturas (VGGs, ResNet50, Xception, InceptionV3, InceptionResNetV2, MobileNetV2, DenseNet, ResNet) y se debe seleccionar la que mayor precisión nos dé (información sobre las arquitecturas disponibles en https://keras.io/applications/). Se espera que el alumno utilice todas las técnicas de optimización mostradas en clase de forma justificada para la mejora del rendimiento de la red neuronal (weight regularization, dropout, batch normalization, data augmentation, etc.).\n",
    "\n",
    "### Estrategia 2: Entrenar desde cero o *from scratch*\n",
    "\n",
    "La segunda estrategia a comparar será una red neuronal profunda que el alumno debe diseñar, entrenar y optimizar. Se debe justificar empíricamente las decisiones que llevaron a la selección de atributos, capas e hiperparámetros a los que se ha llegado. Se espera que el alumno utilice todas las técnicas de optimización mostradas en clase de forma justificada para la mejora del rendimiento de la red neuronal (weight regularization, dropout, batch normalization, data augmentation, etc.).\n",
    "\n",
    "-----------------------------------------------------"
   ]
  },
  {
   "cell_type": "markdown",
   "metadata": {
    "id": "ugdrEGaDWMTw"
   },
   "source": [
    "# Dataset preprocesado Caltech 101\n",
    "\n",
    "A partir de Caltech 101 dataset \n",
    "- Original en http://www.vision.caltech.edu/Image_Datasets/Caltech101/#Download\n",
    "- Preprocesado subido al gdrive https://drive.google.com/open?id=1ziDd-Au-Fn8XneBeDQya9MjPBoTpDqqK"
   ]
  },
  {
   "cell_type": "markdown",
   "metadata": {
    "id": "D6Pdh1PQheNv"
   },
   "source": [
    "### Directorio base."
   ]
  },
  {
   "cell_type": "code",
   "execution_count": 1,
   "metadata": {
    "colab": {
     "base_uri": "https://localhost:8080/"
    },
    "id": "u0Afsh1lWMTz",
    "outputId": "09874245-58c6-4212-db0e-9facae815a29"
   },
   "outputs": [
    {
     "name": "stdout",
     "output_type": "stream",
     "text": [
      "Drive already mounted at /content/drive/; to attempt to forcibly remount, call drive.mount(\"/content/drive/\", force_remount=True).\n"
     ]
    }
   ],
   "source": [
    "###################################################################################################\n",
    "# La utilizacion de un directorio base es obligatoria\n",
    "# Todas las referencias al disco duro (guardar o cargar) deberan tener esta variable como base\n",
    "###################################################################################################\n",
    "BASE_FOLDER = \"/content/drive/My Drive/2. Estudios/master artificial intelligence/viu-fundamentos_redes_neuronales/tasks/act_1-Alberto_Vargas/\"\n",
    "###################################################################################################\n",
    "\n",
    "from google.colab import drive\n",
    "drive.mount('/content/drive/')"
   ]
  },
  {
   "cell_type": "markdown",
   "metadata": {
    "id": "Pwa9OBG8Nkzr"
   },
   "source": [
    "### Libraries."
   ]
  },
  {
   "cell_type": "code",
   "execution_count": 66,
   "metadata": {
    "id": "I_7yhsBkFcyF"
   },
   "outputs": [],
   "source": [
    "from sklearn.model_selection import train_test_split\n",
    "from sklearn.preprocessing import LabelBinarizer\n",
    "\n",
    "import tensorflow as tf\n",
    "from tensorflow.keras.applications import imagenet_utils\n",
    "from tensorflow.keras.preprocessing.image import ImageDataGenerator\n",
    "\n",
    "# architecture\n",
    "from tensorflow.keras.models import Sequential\n",
    "from tensorflow.keras import layers\n",
    "from sklearn.metrics import classification_report\n",
    "from tensorflow.keras import Model\n",
    "\n",
    "# optimization\n",
    "from tensorflow.keras.optimizers import Adam\n",
    "from keras import regularizers\n",
    "from tensorflow.keras.layers import Input, Conv2D, Dense, Dropout, BatchNormalization, MaxPooling2D, Flatten, ZeroPadding2D\n",
    "from tensorflow.keras.regularizers import l1_l2, l2\n",
    "\n",
    "# pre-trained models\n",
    "from tensorflow.keras.applications import VGG19\n",
    "from tensorflow.keras.applications import ResNet50"
   ]
  },
  {
   "cell_type": "markdown",
   "metadata": {
    "id": "RjZ3FtEqNm8h"
   },
   "source": [
    "### Functions."
   ]
  },
  {
   "cell_type": "code",
   "execution_count": 72,
   "metadata": {
    "id": "ZxiuMuopgkGX"
   },
   "outputs": [],
   "source": [
    "def to_numeric(y_train):\n",
    "  '''Transformando las labels de texto a valores numéricos'''\n",
    "  y_set = np.unique(y_train)\n",
    "  mapping = { key : value for key,value in zip(y_set,range(len(y_set)))}\n",
    "  y_train_num = np.array([mapping[i] for i in y_train])\n",
    "  return y_set, y_train_num\n",
    "\n",
    "def plotting_model(model, epochs):\n",
    "  '''Plotting model performance'''\n",
    "  plt.style.use(\"ggplot\")\n",
    "  plt.figure()\n",
    "  x_axis= np.arange(1,epochs+1)\n",
    "  plt.plot(x_axis, model.history[\"loss\"], label=\"train_loss\")\n",
    "  plt.plot(x_axis, model.history[\"val_loss\"], label=\"val_loss\")\n",
    "  plt.plot(x_axis, model.history[\"accuracy\"], label=\"train_acc\")\n",
    "  plt.plot(x_axis, model.history[\"val_accuracy\"], label=\"val_acc\")\n",
    "  plt.title(\"Training Loss and Accuracy\")\n",
    "  plt.xlabel(\"Epoch #\")\n",
    "  plt.ylabel(\"Loss/Accuracy\")\n",
    "  plt.legend()\n",
    "  plt.show()\n"
   ]
  },
  {
   "cell_type": "markdown",
   "metadata": {
    "id": "3Hp8dIrGg5TR"
   },
   "source": [
    "### Cómo cargar los archivos con referencia al directorio base.\n",
    "- Descargamos y descomprimimos el dataset Caltech 101.\n",
    "- Cargar las ndarrays."
   ]
  },
  {
   "cell_type": "code",
   "execution_count": 4,
   "metadata": {
    "id": "hbrFU882WMT_"
   },
   "outputs": [],
   "source": [
    "import os\n",
    "import numpy as np\n",
    "import pandas as pd\n",
    "import matplotlib.pyplot as plt\n",
    "import matplotlib.image as mpimg\n",
    "import tarfile\n",
    "import pickle\n",
    "%matplotlib inline"
   ]
  },
  {
   "cell_type": "code",
   "execution_count": 6,
   "metadata": {
    "id": "1FSz6160WMUE"
   },
   "outputs": [],
   "source": [
    "with open(BASE_FOLDER+\"pickle_all_images_df.pickle\", \"rb\") as input_file:\n",
    "    x_train = pickle.load(input_file)\n",
    "with open(BASE_FOLDER+\"pickle_all_classes.pickle\", \"rb\") as input_file:\n",
    "    y_train = pickle.load(input_file)"
   ]
  },
  {
   "cell_type": "markdown",
   "metadata": {
    "id": "ULf90ieFGKbH"
   },
   "source": [
    "- Some preview:"
   ]
  },
  {
   "cell_type": "code",
   "execution_count": null,
   "metadata": {
    "id": "qpVrHX8bWMUK"
   },
   "outputs": [],
   "source": [
    "#print(x_train.shape)\n",
    "#print(len(y_train))"
   ]
  },
  {
   "cell_type": "code",
   "execution_count": null,
   "metadata": {
    "id": "YiLHUZf3WMUN"
   },
   "outputs": [],
   "source": [
    "# # showing some stuff \n",
    "# imgplot = plt.imshow(x_train[9144])\n",
    "# plt.show()"
   ]
  },
  {
   "cell_type": "code",
   "execution_count": null,
   "metadata": {
    "id": "D7dFCdwfFKTp"
   },
   "outputs": [],
   "source": [
    "# print(y_train[129])"
   ]
  },
  {
   "cell_type": "markdown",
   "metadata": {
    "id": "dj3He61rPYn4"
   },
   "source": [
    "------------------------------------\n",
    "\n",
    "# Estrategia 1: Red pre-entrenada.\n",
    "\n",
    "- Utilización de una red preentrenada con el dataset ImageNet\n",
    "- Transfer learning y fine-tuning para clasificar los objetos de Caltech 101. \n",
    "- Comparar al menos dos tipos de arquitecturas (VGGs, ResNet50, Xception, InceptionV3, InceptionResNetV2, MobileNetV2, DenseNet, ResNet)\n",
    "- Seleccionar la que mayor precisión nos dé (información sobre las arquitecturas disponibles en https://keras.io/applications/).\n",
    "- Utilizar todas las técnicas de optimización mostradas en clase de forma justificada para la mejora del rendimiento de la red neuronal (weight regularization, dropout, batch normalization, data augmentation, etc.).\n",
    "\n",
    "----------------------------------------\n",
    "\n"
   ]
  },
  {
   "cell_type": "markdown",
   "metadata": {
    "id": "C9rCGqtsiwpH"
   },
   "source": [
    "Usaremos los modelos VGG19 y ResNet-50. Para ambos se ha implementado:\n",
    "- Data augmentation (para el dataset).\n",
    "- Transranfer-learning.\n",
    "- Fine-tuning."
   ]
  },
  {
   "cell_type": "code",
   "execution_count": 7,
   "metadata": {
    "id": "m_Cl406SJY-y"
   },
   "outputs": [],
   "source": [
    "# Transformando las labels de texto a valores numéricos\n",
    "y_set, y_train_num = to_numeric(y_train)"
   ]
  },
  {
   "cell_type": "code",
   "execution_count": 8,
   "metadata": {
    "id": "aiLfu4mNgX9y"
   },
   "outputs": [],
   "source": [
    "# train_test_split. Sobreescribiendo las variables ahorramos espacio.\n",
    "x_train, x_test, y_train, y_test = train_test_split(x_train, y_train_num, test_size = 0.20)\n",
    "#del y_train, x_train \n",
    "\n",
    "#One-hot encoding\n",
    "lb = LabelBinarizer()\n",
    "y_train = lb.fit_transform(y_train)\n",
    "y_test = lb.transform(y_test)"
   ]
  },
  {
   "cell_type": "code",
   "execution_count": 9,
   "metadata": {
    "colab": {
     "base_uri": "https://localhost:8080/"
    },
    "id": "UMCleYQDht2O",
    "outputId": "f41b70ca-7d0e-486f-d08b-cba0c0378331"
   },
   "outputs": [
    {
     "name": "stdout",
     "output_type": "stream",
     "text": [
      "Train:  (7316, 128, 128, 3)\n",
      "\n",
      "Test:  (1829, 128, 128, 3)\n"
     ]
    }
   ],
   "source": [
    "# Normalizar data\n",
    "x_train = x_train.astype('float')*255.0\n",
    "x_test = x_test.astype('float')*255.0\n",
    "\n",
    "x_train = imagenet_utils.preprocess_input(x_train)\n",
    "x_test = imagenet_utils.preprocess_input(x_test)\n",
    "\n",
    "print(\"Train: \", x_train.shape)\n",
    "print(\"\\nTest: \", x_test.shape)"
   ]
  },
  {
   "cell_type": "markdown",
   "metadata": {
    "id": "Z7vumJr1jyAr"
   },
   "source": [
    "- Data Augmentation. \n",
    "Hemos comprobado que con Data Augmentation mejoramos los resultados, así que los incluímos desde el principio."
   ]
  },
  {
   "cell_type": "code",
   "execution_count": 39,
   "metadata": {
    "id": "X6oLiU4rjwPl"
   },
   "outputs": [],
   "source": [
    "#Contenedor DataGenerator\n",
    "data_generator = ImageDataGenerator(rotation_range = 15,\n",
    "                                    width_shift_range = 0.2,\n",
    "                                    height_shift_range = 0.2,\n",
    "                                    horizontal_flip = True,\n",
    "                                    zoom_range = 0.2,\n",
    "                                    validation_split = 0.2)\n"
   ]
  },
  {
   "cell_type": "markdown",
   "metadata": {
    "id": "PGKf_Qt6jVKD"
   },
   "source": [
    "### Modelo 1: VGG19."
   ]
  },
  {
   "cell_type": "code",
   "execution_count": 40,
   "metadata": {
    "colab": {
     "base_uri": "https://localhost:8080/"
    },
    "id": "soXgqOUajQi-",
    "outputId": "a0d77809-4a47-4800-d620-d45eeeb37a3b"
   },
   "outputs": [
    {
     "name": "stdout",
     "output_type": "stream",
     "text": [
      "Model: \"vgg19\"\n",
      "_________________________________________________________________\n",
      "Layer (type)                 Output Shape              Param #   \n",
      "=================================================================\n",
      "input_2 (InputLayer)         [(None, 128, 128, 3)]     0         \n",
      "_________________________________________________________________\n",
      "block1_conv1 (Conv2D)        (None, 128, 128, 64)      1792      \n",
      "_________________________________________________________________\n",
      "block1_conv2 (Conv2D)        (None, 128, 128, 64)      36928     \n",
      "_________________________________________________________________\n",
      "block1_pool (MaxPooling2D)   (None, 64, 64, 64)        0         \n",
      "_________________________________________________________________\n",
      "block2_conv1 (Conv2D)        (None, 64, 64, 128)       73856     \n",
      "_________________________________________________________________\n",
      "block2_conv2 (Conv2D)        (None, 64, 64, 128)       147584    \n",
      "_________________________________________________________________\n",
      "block2_pool (MaxPooling2D)   (None, 32, 32, 128)       0         \n",
      "_________________________________________________________________\n",
      "block3_conv1 (Conv2D)        (None, 32, 32, 256)       295168    \n",
      "_________________________________________________________________\n",
      "block3_conv2 (Conv2D)        (None, 32, 32, 256)       590080    \n",
      "_________________________________________________________________\n",
      "block3_conv3 (Conv2D)        (None, 32, 32, 256)       590080    \n",
      "_________________________________________________________________\n",
      "block3_conv4 (Conv2D)        (None, 32, 32, 256)       590080    \n",
      "_________________________________________________________________\n",
      "block3_pool (MaxPooling2D)   (None, 16, 16, 256)       0         \n",
      "_________________________________________________________________\n",
      "block4_conv1 (Conv2D)        (None, 16, 16, 512)       1180160   \n",
      "_________________________________________________________________\n",
      "block4_conv2 (Conv2D)        (None, 16, 16, 512)       2359808   \n",
      "_________________________________________________________________\n",
      "block4_conv3 (Conv2D)        (None, 16, 16, 512)       2359808   \n",
      "_________________________________________________________________\n",
      "block4_conv4 (Conv2D)        (None, 16, 16, 512)       2359808   \n",
      "_________________________________________________________________\n",
      "block4_pool (MaxPooling2D)   (None, 8, 8, 512)         0         \n",
      "_________________________________________________________________\n",
      "block5_conv1 (Conv2D)        (None, 8, 8, 512)         2359808   \n",
      "_________________________________________________________________\n",
      "block5_conv2 (Conv2D)        (None, 8, 8, 512)         2359808   \n",
      "_________________________________________________________________\n",
      "block5_conv3 (Conv2D)        (None, 8, 8, 512)         2359808   \n",
      "_________________________________________________________________\n",
      "block5_conv4 (Conv2D)        (None, 8, 8, 512)         2359808   \n",
      "_________________________________________________________________\n",
      "block5_pool (MaxPooling2D)   (None, 4, 4, 512)         0         \n",
      "=================================================================\n",
      "Total params: 20,024,384\n",
      "Trainable params: 20,024,384\n",
      "Non-trainable params: 0\n",
      "_________________________________________________________________\n"
     ]
    }
   ],
   "source": [
    "base_model_vgg = VGG19(weights = 'imagenet', include_top = False, input_shape = (128,128,3))\n",
    "base_model_vgg.summary()"
   ]
  },
  {
   "cell_type": "markdown",
   "metadata": {
    "id": "lRr4DnMRjigA"
   },
   "source": [
    "- Transfer-learning."
   ]
  },
  {
   "cell_type": "code",
   "execution_count": 41,
   "metadata": {
    "colab": {
     "base_uri": "https://localhost:8080/"
    },
    "id": "MMkrj4Rpjbhb",
    "outputId": "20a1602e-8f3d-4d24-efa2-4c43862082cb"
   },
   "outputs": [
    {
     "name": "stdout",
     "output_type": "stream",
     "text": [
      "Model: \"sequential_1\"\n",
      "_________________________________________________________________\n",
      "Layer (type)                 Output Shape              Param #   \n",
      "=================================================================\n",
      "vgg19 (Functional)           (None, 4, 4, 512)         20024384  \n",
      "_________________________________________________________________\n",
      "flatten_1 (Flatten)          (None, 8192)              0         \n",
      "_________________________________________________________________\n",
      "dense_3 (Dense)              (None, 512)               4194816   \n",
      "_________________________________________________________________\n",
      "dropout_2 (Dropout)          (None, 512)               0         \n",
      "_________________________________________________________________\n",
      "dense_4 (Dense)              (None, 512)               262656    \n",
      "_________________________________________________________________\n",
      "dropout_3 (Dropout)          (None, 512)               0         \n",
      "_________________________________________________________________\n",
      "dense_5 (Dense)              (None, 102)               52326     \n",
      "=================================================================\n",
      "Total params: 24,534,182\n",
      "Trainable params: 4,509,798\n",
      "Non-trainable params: 20,024,384\n",
      "_________________________________________________________________\n"
     ]
    }
   ],
   "source": [
    "base_model_vgg.trainable = False  \n",
    "\n",
    "pre_trained_model_vgg = Sequential()\n",
    "pre_trained_model_vgg.add(base_model_vgg)\n",
    "pre_trained_model_vgg.add(layers.Flatten())\n",
    "pre_trained_model_vgg.add(layers.Dense(512, activation = 'relu'))\n",
    "pre_trained_model_vgg.add(layers.Dropout(0.5))\n",
    "pre_trained_model_vgg.add(layers.Dense(512, activation = 'relu'))\n",
    "pre_trained_model_vgg.add(layers.Dropout(0.2))\n",
    "pre_trained_model_vgg.add(layers.Dense(102, activation = 'softmax'))\n",
    "\n",
    "pre_trained_model_vgg.summary()"
   ]
  },
  {
   "cell_type": "markdown",
   "metadata": {
    "id": "QyQATbUqjpF2"
   },
   "source": [
    "- Training."
   ]
  },
  {
   "cell_type": "code",
   "execution_count": 42,
   "metadata": {
    "id": "1-W46G5cTn7_"
   },
   "outputs": [],
   "source": [
    "# Compiling\n",
    "pre_trained_model_vgg.compile(loss = \"categorical_crossentropy\", \n",
    "                              optimizer = Adam(learning_rate= 0.001, decay=0, beta_1=0.9, beta_2=0.999, epsilon=1e-08), \n",
    "                              metrics = [\"accuracy\"])"
   ]
  },
  {
   "cell_type": "code",
   "execution_count": 43,
   "metadata": {
    "colab": {
     "base_uri": "https://localhost:8080/"
    },
    "id": "PmMzVZRz7_7p",
    "outputId": "35bbb0c4-6fa1-4372-9ec0-fb3314689efc"
   },
   "outputs": [
    {
     "name": "stdout",
     "output_type": "stream",
     "text": [
      "Epoch 1/15\n",
      "228/228 [==============================] - 72s 309ms/step - loss: 3.3020 - accuracy: 0.4417 - val_loss: 1.6987 - val_accuracy: 0.6494\n",
      "Epoch 2/15\n",
      "228/228 [==============================] - 74s 321ms/step - loss: 2.1361 - accuracy: 0.5803 - val_loss: 1.5124 - val_accuracy: 0.6945\n",
      "Epoch 3/15\n",
      "228/228 [==============================] - 65s 283ms/step - loss: 1.9313 - accuracy: 0.6216 - val_loss: 1.5048 - val_accuracy: 0.6951\n",
      "Epoch 4/15\n",
      "228/228 [==============================] - 64s 276ms/step - loss: 1.7213 - accuracy: 0.6560 - val_loss: 1.3614 - val_accuracy: 0.7293\n",
      "Epoch 5/15\n",
      "228/228 [==============================] - 65s 284ms/step - loss: 1.5850 - accuracy: 0.6782 - val_loss: 1.3062 - val_accuracy: 0.7348\n",
      "Epoch 6/15\n",
      "228/228 [==============================] - 67s 290ms/step - loss: 1.4435 - accuracy: 0.7010 - val_loss: 1.2096 - val_accuracy: 0.7478\n",
      "Epoch 7/15\n",
      "228/228 [==============================] - 65s 281ms/step - loss: 1.3617 - accuracy: 0.7127 - val_loss: 1.1788 - val_accuracy: 0.7608\n",
      "Epoch 8/15\n",
      "228/228 [==============================] - 68s 296ms/step - loss: 1.2326 - accuracy: 0.7336 - val_loss: 1.1687 - val_accuracy: 0.7594\n",
      "Epoch 9/15\n",
      "228/228 [==============================] - 66s 287ms/step - loss: 1.1797 - accuracy: 0.7441 - val_loss: 1.0711 - val_accuracy: 0.7697\n",
      "Epoch 10/15\n",
      "228/228 [==============================] - 65s 284ms/step - loss: 1.1313 - accuracy: 0.7519 - val_loss: 1.0376 - val_accuracy: 0.7676\n",
      "Epoch 11/15\n",
      "228/228 [==============================] - 64s 277ms/step - loss: 1.0502 - accuracy: 0.7626 - val_loss: 1.0975 - val_accuracy: 0.7553\n",
      "Epoch 12/15\n",
      "228/228 [==============================] - 72s 311ms/step - loss: 0.9836 - accuracy: 0.7757 - val_loss: 0.9798 - val_accuracy: 0.7765\n",
      "Epoch 13/15\n",
      "228/228 [==============================] - 63s 276ms/step - loss: 0.9402 - accuracy: 0.7816 - val_loss: 1.0180 - val_accuracy: 0.7758\n",
      "Epoch 14/15\n",
      "228/228 [==============================] - 63s 274ms/step - loss: 0.9340 - accuracy: 0.7874 - val_loss: 0.9611 - val_accuracy: 0.7956\n",
      "Epoch 15/15\n",
      "228/228 [==============================] - 63s 274ms/step - loss: 0.9087 - accuracy: 0.7933 - val_loss: 0.9973 - val_accuracy: 0.7881\n"
     ]
    }
   ],
   "source": [
    "# Data Augmentation\n",
    "epochs= 15\n",
    "vgg_aug = pre_trained_model_vgg.fit(data_generator.flow(x_train, y_train, batch_size = 128, subset = 'training'), \n",
    "                                    steps_per_epoch = len(x_train)*4/128, epochs = epochs, workers = 2,\n",
    "                                    validation_data = data_generator.flow(x_train, y_train, batch_size = 128, subset = 'validation'))"
   ]
  },
  {
   "cell_type": "code",
   "execution_count": 44,
   "metadata": {
    "id": "cBdxpPRnTiR9"
   },
   "outputs": [],
   "source": [
    "# Saving model (por si me crashea colab)\n",
    "pre_trained_model_vgg.save(BASE_FOLDER+\"strategy_1_model_vgg_augmented.h5\")"
   ]
  },
  {
   "cell_type": "code",
   "execution_count": 45,
   "metadata": {
    "colab": {
     "base_uri": "https://localhost:8080/",
     "height": 1000
    },
    "id": "--lGWWnMT0RS",
    "outputId": "ac830926-4ff0-4672-dafb-3527ef2ac24f"
   },
   "outputs": [
    {
     "name": "stderr",
     "output_type": "stream",
     "text": [
      "/usr/local/lib/python3.7/dist-packages/sklearn/metrics/_classification.py:1272: UndefinedMetricWarning: Precision and F-score are ill-defined and being set to 0.0 in labels with no predicted samples. Use `zero_division` parameter to control this behavior.\n",
      "  _warn_prf(average, modifier, msg_start, len(result))\n"
     ]
    },
    {
     "name": "stdout",
     "output_type": "stream",
     "text": [
      "Evaluation:  \n",
      "                    precision    recall  f1-score   support\n",
      "\n",
      "BACKGROUND_Google       0.47      0.67      0.56        83\n",
      "            Faces       0.97      1.00      0.98        88\n",
      "       Faces_easy       1.00      0.98      0.99        86\n",
      "         Leopards       0.93      1.00      0.96        40\n",
      "       Motorbikes       0.99      1.00      0.99       144\n",
      "        accordion       0.75      1.00      0.86         9\n",
      "        airplanes       0.95      0.98      0.97       173\n",
      "           anchor       1.00      0.09      0.17        11\n",
      "              ant       0.82      0.75      0.78        12\n",
      "           barrel       1.00      0.62      0.77         8\n",
      "             bass       0.71      0.38      0.50        13\n",
      "           beaver       1.00      0.22      0.36         9\n",
      "        binocular       1.00      0.71      0.83         7\n",
      "           bonsai       0.93      0.86      0.89        29\n",
      "            brain       0.89      1.00      0.94        25\n",
      "     brontosaurus       0.00      0.00      0.00         7\n",
      "           buddha       0.78      0.82      0.80        17\n",
      "        butterfly       0.83      0.94      0.88        16\n",
      "           camera       1.00      0.92      0.96        12\n",
      "           cannon       0.83      0.45      0.59        11\n",
      "         car_side       1.00      1.00      1.00        27\n",
      "      ceiling_fan       1.00      0.83      0.91         6\n",
      "        cellphone       0.80      0.73      0.76        11\n",
      "            chair       0.77      0.83      0.80        12\n",
      "       chandelier       0.91      0.95      0.93        21\n",
      "      cougar_body       0.46      0.60      0.52        10\n",
      "      cougar_face       0.93      0.87      0.90        15\n",
      "             crab       0.82      0.78      0.80        18\n",
      "         crayfish       0.30      0.67      0.41        12\n",
      "        crocodile       0.36      0.76      0.49        17\n",
      "   crocodile_head       0.27      0.27      0.27        11\n",
      "              cup       0.70      1.00      0.82         7\n",
      "        dalmatian       1.00      0.94      0.97        18\n",
      "      dollar_bill       0.78      0.78      0.78         9\n",
      "          dolphin       0.82      0.90      0.86        10\n",
      "        dragonfly       0.82      0.93      0.87        15\n",
      "  electric_guitar       1.00      0.56      0.71        18\n",
      "         elephant       1.00      0.69      0.81        16\n",
      "              emu       1.00      0.73      0.84        11\n",
      "        euphonium       0.73      0.92      0.81        12\n",
      "             ewer       0.82      0.93      0.87        15\n",
      "            ferry       1.00      0.75      0.86        12\n",
      "         flamingo       1.00      0.57      0.73        14\n",
      "    flamingo_head       1.00      1.00      1.00         7\n",
      "         garfield       0.75      0.75      0.75         4\n",
      "          gerenuk       0.75      0.75      0.75         4\n",
      "       gramophone       1.00      0.70      0.82        10\n",
      "      grand_piano       1.00      0.86      0.92        21\n",
      "        hawksbill       0.83      0.75      0.79        20\n",
      "        headphone       1.00      0.60      0.75        10\n",
      "         hedgehog       0.80      1.00      0.89         8\n",
      "       helicopter       0.75      0.82      0.78        22\n",
      "             ibis       0.78      1.00      0.88        18\n",
      "     inline_skate       1.00      0.83      0.91         6\n",
      "      joshua_tree       0.76      0.87      0.81        15\n",
      "         kangaroo       0.71      0.77      0.74        13\n",
      "            ketch       0.84      1.00      0.91        21\n",
      "             lamp       1.00      0.69      0.81        16\n",
      "           laptop       1.00      1.00      1.00        17\n",
      "            llama       0.72      0.81      0.76        16\n",
      "          lobster       0.00      0.00      0.00         9\n",
      "            lotus       0.71      0.50      0.59        10\n",
      "         mandolin       0.62      1.00      0.77         5\n",
      "           mayfly       0.80      0.67      0.73         6\n",
      "          menorah       0.78      0.78      0.78         9\n",
      "        metronome       1.00      1.00      1.00         5\n",
      "          minaret       0.83      1.00      0.91        10\n",
      "         nautilus       0.92      1.00      0.96        11\n",
      "          octopus       1.00      0.17      0.29         6\n",
      "            okapi       1.00      0.57      0.73         7\n",
      "           pagoda       1.00      0.67      0.80        12\n",
      "            panda       1.00      0.75      0.86        12\n",
      "           pigeon       1.00      1.00      1.00         7\n",
      "            pizza       0.92      0.92      0.92        12\n",
      "         platypus       0.50      0.12      0.20         8\n",
      "          pyramid       0.78      0.88      0.82         8\n",
      "         revolver       0.90      0.82      0.86        11\n",
      "            rhino       0.63      0.92      0.75        13\n",
      "          rooster       1.00      0.90      0.95        10\n",
      "        saxophone       1.00      1.00      1.00         3\n",
      "         schooner       0.85      0.73      0.79        15\n",
      "         scissors       1.00      0.75      0.86         4\n",
      "         scorpion       0.35      0.33      0.34        18\n",
      "        sea_horse       1.00      0.56      0.71         9\n",
      "           snoopy       0.80      0.50      0.62         8\n",
      "      soccer_ball       0.69      1.00      0.82         9\n",
      "          stapler       0.70      1.00      0.82         7\n",
      "         starfish       0.82      0.93      0.87        15\n",
      "      stegosaurus       0.91      0.77      0.83        13\n",
      "        stop_sign       0.94      1.00      0.97        15\n",
      "       strawberry       1.00      1.00      1.00         6\n",
      "        sunflower       0.95      0.95      0.95        21\n",
      "             tick       1.00      1.00      1.00         6\n",
      "        trilobite       0.95      0.91      0.93        23\n",
      "         umbrella       0.95      0.86      0.90        22\n",
      "            watch       0.98      0.98      0.98        58\n",
      "      water_lilly       0.60      0.86      0.71         7\n",
      "       wheelchair       1.00      0.76      0.87        17\n",
      "         wild_cat       1.00      0.44      0.62         9\n",
      "    windsor_chair       0.86      1.00      0.92        12\n",
      "           wrench       0.33      0.50      0.40         6\n",
      "         yin_yang       1.00      0.70      0.82        10\n",
      "\n",
      "         accuracy                           0.84      1829\n",
      "        macro avg       0.83      0.77      0.78      1829\n",
      "     weighted avg       0.86      0.84      0.84      1829\n",
      "\n"
     ]
    },
    {
     "data": {
      "image/png": "[encoded data removed]",
      "text/plain": [
       "<Figure size 432x288 with 1 Axes>"
      ]
     },
     "metadata": {
      "tags": []
     },
     "output_type": "display_data"
    }
   ],
   "source": [
    "# Evaluation\n",
    "predictions = pre_trained_model_vgg.predict(x_test, batch_size=128)\n",
    "print(\"Evaluation: \",\n",
    "      \"\\n\",\n",
    "      classification_report(y_test.argmax(axis=1), predictions.argmax(axis=1), target_names = y_set)\n",
    "      )\n",
    "\n",
    "# # graphs\n",
    "# epochs is externally defined above in order to be implemented here\n",
    "plotting_model(vgg_aug, epochs)"
   ]
  },
  {
   "cell_type": "markdown",
   "metadata": {
    "id": "71RDUxOqjvDe"
   },
   "source": [
    "- Hubiera sido buena idea definir más epochs para ver cómo se estabilizan el *train* y *val loss*. Seguramente se estabilizaría dando resultados óptimos (pero hay que encontrar un compromiso entre tiempo de cómputo y fechas límite).\n",
    "\n",
    "- De la misma manera, *train* y *val accuracy* siguen una trayectoria ascendente y con más epochs conseguiríamos una mayor performance, parece que sin signos notables de overfitting.\n",
    "\n",
    "Tenemos un accuracy mayor al 80% y lo damos por válido de momento."
   ]
  },
  {
   "cell_type": "markdown",
   "metadata": {
    "id": "n8OBEyKskCsO"
   },
   "source": [
    "- Fine-tuning.\n",
    "\n",
    "Vamos a reciclar todos los parámetros anteriormente usados. Volviendo a partir de nuestro *base_model*, congelamos todas las capas menos la última convolucional."
   ]
  },
  {
   "cell_type": "code",
   "execution_count": 50,
   "metadata": {
    "colab": {
     "base_uri": "https://localhost:8080/"
    },
    "id": "AeR8EYLDkNEU",
    "outputId": "c68048a1-7501-4927-81cf-2ab740ae3d2d"
   },
   "outputs": [
    {
     "name": "stdout",
     "output_type": "stream",
     "text": [
      "Model: \"vgg19\"\n",
      "_________________________________________________________________\n",
      "Layer (type)                 Output Shape              Param #   \n",
      "=================================================================\n",
      "input_2 (InputLayer)         [(None, 128, 128, 3)]     0         \n",
      "_________________________________________________________________\n",
      "block1_conv1 (Conv2D)        (None, 128, 128, 64)      1792      \n",
      "_________________________________________________________________\n",
      "block1_conv2 (Conv2D)        (None, 128, 128, 64)      36928     \n",
      "_________________________________________________________________\n",
      "block1_pool (MaxPooling2D)   (None, 64, 64, 64)        0         \n",
      "_________________________________________________________________\n",
      "block2_conv1 (Conv2D)        (None, 64, 64, 128)       73856     \n",
      "_________________________________________________________________\n",
      "block2_conv2 (Conv2D)        (None, 64, 64, 128)       147584    \n",
      "_________________________________________________________________\n",
      "block2_pool (MaxPooling2D)   (None, 32, 32, 128)       0         \n",
      "_________________________________________________________________\n",
      "block3_conv1 (Conv2D)        (None, 32, 32, 256)       295168    \n",
      "_________________________________________________________________\n",
      "block3_conv2 (Conv2D)        (None, 32, 32, 256)       590080    \n",
      "_________________________________________________________________\n",
      "block3_conv3 (Conv2D)        (None, 32, 32, 256)       590080    \n",
      "_________________________________________________________________\n",
      "block3_conv4 (Conv2D)        (None, 32, 32, 256)       590080    \n",
      "_________________________________________________________________\n",
      "block3_pool (MaxPooling2D)   (None, 16, 16, 256)       0         \n",
      "_________________________________________________________________\n",
      "block4_conv1 (Conv2D)        (None, 16, 16, 512)       1180160   \n",
      "_________________________________________________________________\n",
      "block4_conv2 (Conv2D)        (None, 16, 16, 512)       2359808   \n",
      "_________________________________________________________________\n",
      "block4_conv3 (Conv2D)        (None, 16, 16, 512)       2359808   \n",
      "_________________________________________________________________\n",
      "block4_conv4 (Conv2D)        (None, 16, 16, 512)       2359808   \n",
      "_________________________________________________________________\n",
      "block4_pool (MaxPooling2D)   (None, 8, 8, 512)         0         \n",
      "_________________________________________________________________\n",
      "block5_conv1 (Conv2D)        (None, 8, 8, 512)         2359808   \n",
      "_________________________________________________________________\n",
      "block5_conv2 (Conv2D)        (None, 8, 8, 512)         2359808   \n",
      "_________________________________________________________________\n",
      "block5_conv3 (Conv2D)        (None, 8, 8, 512)         2359808   \n",
      "_________________________________________________________________\n",
      "block5_conv4 (Conv2D)        (None, 8, 8, 512)         2359808   \n",
      "_________________________________________________________________\n",
      "block5_pool (MaxPooling2D)   (None, 4, 4, 512)         0         \n",
      "=================================================================\n",
      "Total params: 20,024,384\n",
      "Trainable params: 0\n",
      "Non-trainable params: 20,024,384\n",
      "_________________________________________________________________\n"
     ]
    }
   ],
   "source": [
    "base_model_vgg.summary()"
   ]
  },
  {
   "cell_type": "code",
   "execution_count": 51,
   "metadata": {
    "colab": {
     "base_uri": "https://localhost:8080/"
    },
    "id": "ctNh4XsikOok",
    "outputId": "e4ba21cc-962f-4f6b-96da-1edc8d351213"
   },
   "outputs": [
    {
     "name": "stdout",
     "output_type": "stream",
     "text": [
      "=> input_2 frozen\n",
      "=> block1_conv1 frozen\n",
      "=> block1_conv2 frozen\n",
      "=> block1_pool frozen\n",
      "=> block2_conv1 frozen\n",
      "=> block2_conv2 frozen\n",
      "=> block2_pool frozen\n",
      "=> block3_conv1 frozen\n",
      "=> block3_conv2 frozen\n",
      "=> block3_conv3 frozen\n",
      "=> block3_conv4 frozen\n",
      "=> block3_pool frozen\n",
      "=> block4_conv1 frozen\n",
      "=> block4_conv2 frozen\n",
      "=> block4_conv3 frozen\n",
      "=> block4_conv4 frozen\n",
      "=> block4_pool frozen\n"
     ]
    }
   ],
   "source": [
    "# just playing with the last layer\n",
    "for layer in base_model_vgg.layers:\n",
    "  if layer.name == 'block5_conv1':\n",
    "    break\n",
    "\n",
    "  layer.trainable = False\n",
    "  print(\"=> {} frozen\".format(layer.name))"
   ]
  },
  {
   "cell_type": "code",
   "execution_count": 52,
   "metadata": {
    "id": "7WBPh6QqkQ0O"
   },
   "outputs": [],
   "source": [
    "# modifying last layer\n",
    "last = base_model_vgg.layers[-1].output\n",
    "\n",
    "x = Flatten()(last)\n",
    "x = Dense(512, activation = 'relu')(x)\n",
    "x = Dropout(0.5)(x)\n",
    "x = Dense(512, activation = 'relu')(x)\n",
    "x = Dropout(0.5)(x)\n",
    "x = Dense(102, activation = 'softmax')(x)\n",
    "\n",
    "pre_trained_model_vgg_fine = Model(base_model_vgg.input, x)"
   ]
  },
  {
   "cell_type": "code",
   "execution_count": 53,
   "metadata": {
    "id": "_7v_fZ21truG"
   },
   "outputs": [],
   "source": [
    "# Compiling\n",
    "pre_trained_model_vgg_fine.compile(loss = \"categorical_crossentropy\", \n",
    "                              optimizer = Adam(learning_rate= 0.001, decay=0, beta_1=0.9, beta_2=0.999, epsilon=1e-08), \n",
    "                              metrics = [\"accuracy\"])"
   ]
  },
  {
   "cell_type": "code",
   "execution_count": 54,
   "metadata": {
    "colab": {
     "base_uri": "https://localhost:8080/"
    },
    "id": "sXytVIobtfA6",
    "outputId": "07baee28-640f-4f64-ddf1-e58fbf075279"
   },
   "outputs": [
    {
     "name": "stdout",
     "output_type": "stream",
     "text": [
      "Epoch 1/15\n",
      "228/228 [==============================] - 65s 281ms/step - loss: 3.9812 - accuracy: 0.3581 - val_loss: 2.3191 - val_accuracy: 0.5605\n",
      "Epoch 2/15\n",
      "228/228 [==============================] - 70s 305ms/step - loss: 2.5840 - accuracy: 0.4928 - val_loss: 2.0132 - val_accuracy: 0.5974\n",
      "Epoch 3/15\n",
      "228/228 [==============================] - 63s 275ms/step - loss: 2.3900 - accuracy: 0.5267 - val_loss: 1.9899 - val_accuracy: 0.6200\n",
      "Epoch 4/15\n",
      "228/228 [==============================] - 73s 319ms/step - loss: 2.2427 - accuracy: 0.5554 - val_loss: 1.9287 - val_accuracy: 0.6220\n",
      "Epoch 5/15\n",
      "228/228 [==============================] - 67s 291ms/step - loss: 2.1536 - accuracy: 0.5668 - val_loss: 1.8889 - val_accuracy: 0.6336\n",
      "Epoch 6/15\n",
      "228/228 [==============================] - 64s 278ms/step - loss: 2.0421 - accuracy: 0.5831 - val_loss: 1.7543 - val_accuracy: 0.6576\n",
      "Epoch 7/15\n",
      "228/228 [==============================] - 63s 277ms/step - loss: 2.0090 - accuracy: 0.5900 - val_loss: 1.8520 - val_accuracy: 0.6452\n",
      "Epoch 8/15\n",
      "228/228 [==============================] - 65s 281ms/step - loss: 1.9349 - accuracy: 0.6007 - val_loss: 1.7192 - val_accuracy: 0.6726\n",
      "Epoch 9/15\n",
      "228/228 [==============================] - 64s 277ms/step - loss: 1.9120 - accuracy: 0.6052 - val_loss: 1.8073 - val_accuracy: 0.6637\n",
      "Epoch 10/15\n",
      "228/228 [==============================] - 62s 272ms/step - loss: 1.8602 - accuracy: 0.6104 - val_loss: 1.6946 - val_accuracy: 0.6774\n",
      "Epoch 11/15\n",
      "228/228 [==============================] - 63s 272ms/step - loss: 1.8088 - accuracy: 0.6189 - val_loss: 1.9316 - val_accuracy: 0.6610\n",
      "Epoch 12/15\n",
      "228/228 [==============================] - 62s 269ms/step - loss: 1.7698 - accuracy: 0.6233 - val_loss: 1.6881 - val_accuracy: 0.6876\n",
      "Epoch 13/15\n",
      "228/228 [==============================] - 63s 273ms/step - loss: 1.7218 - accuracy: 0.6305 - val_loss: 1.6143 - val_accuracy: 0.6801\n",
      "Epoch 14/15\n",
      "228/228 [==============================] - 65s 280ms/step - loss: 1.7063 - accuracy: 0.6353 - val_loss: 1.7460 - val_accuracy: 0.6835\n",
      "Epoch 15/15\n",
      "228/228 [==============================] - 63s 273ms/step - loss: 1.6880 - accuracy: 0.6376 - val_loss: 1.6799 - val_accuracy: 0.6753\n"
     ]
    }
   ],
   "source": [
    "# Data Augmentation\n",
    "epochs= 15\n",
    "vgg_aug_fine = pre_trained_model_vgg_fine.fit(data_generator.flow(x_train, y_train, batch_size = 128, subset = 'training'), \n",
    "                                    steps_per_epoch = len(x_train)*4/128, epochs = epochs, workers = 2,\n",
    "                                    validation_data = data_generator.flow(x_train, y_train, batch_size = 128, subset = 'validation'))"
   ]
  },
  {
   "cell_type": "code",
   "execution_count": 55,
   "metadata": {
    "id": "u0Bcb_J2tfA8"
   },
   "outputs": [],
   "source": [
    "# Saving model (por si me crashea colab)\n",
    "pre_trained_model_vgg_fine.save(BASE_FOLDER+\"strategy_1_model_vgg_augmented-fine_tuning.h5\")"
   ]
  },
  {
   "cell_type": "code",
   "execution_count": 56,
   "metadata": {
    "colab": {
     "base_uri": "https://localhost:8080/",
     "height": 1000
    },
    "id": "-5kgIupptfA9",
    "outputId": "089f188a-eadf-40a3-e38a-6dec26327b71"
   },
   "outputs": [
    {
     "name": "stderr",
     "output_type": "stream",
     "text": [
      "/usr/local/lib/python3.7/dist-packages/sklearn/metrics/_classification.py:1272: UndefinedMetricWarning: Precision and F-score are ill-defined and being set to 0.0 in labels with no predicted samples. Use `zero_division` parameter to control this behavior.\n",
      "  _warn_prf(average, modifier, msg_start, len(result))\n"
     ]
    },
    {
     "name": "stdout",
     "output_type": "stream",
     "text": [
      "Evaluation:  \n",
      "                    precision    recall  f1-score   support\n",
      "\n",
      "BACKGROUND_Google       0.32      0.83      0.46        83\n",
      "            Faces       0.98      1.00      0.99        88\n",
      "       Faces_easy       1.00      0.97      0.98        86\n",
      "         Leopards       0.87      1.00      0.93        40\n",
      "       Motorbikes       0.97      1.00      0.99       144\n",
      "        accordion       0.88      0.78      0.82         9\n",
      "        airplanes       0.96      0.97      0.97       173\n",
      "           anchor       0.00      0.00      0.00        11\n",
      "              ant       0.00      0.00      0.00        12\n",
      "           barrel       1.00      0.75      0.86         8\n",
      "             bass       0.00      0.00      0.00        13\n",
      "           beaver       0.00      0.00      0.00         9\n",
      "        binocular       0.00      0.00      0.00         7\n",
      "           bonsai       0.96      0.86      0.91        29\n",
      "            brain       0.96      0.92      0.94        25\n",
      "     brontosaurus       0.00      0.00      0.00         7\n",
      "           buddha       0.88      0.82      0.85        17\n",
      "        butterfly       0.74      0.88      0.80        16\n",
      "           camera       0.83      0.83      0.83        12\n",
      "           cannon       1.00      0.55      0.71        11\n",
      "         car_side       0.96      1.00      0.98        27\n",
      "      ceiling_fan       0.60      0.50      0.55         6\n",
      "        cellphone       0.33      0.55      0.41        11\n",
      "            chair       0.00      0.00      0.00        12\n",
      "       chandelier       0.88      0.71      0.79        21\n",
      "      cougar_body       0.83      0.50      0.62        10\n",
      "      cougar_face       0.87      0.87      0.87        15\n",
      "             crab       0.00      0.00      0.00        18\n",
      "         crayfish       0.00      0.00      0.00        12\n",
      "        crocodile       0.00      0.00      0.00        17\n",
      "   crocodile_head       0.00      0.00      0.00        11\n",
      "              cup       1.00      1.00      1.00         7\n",
      "        dalmatian       1.00      0.94      0.97        18\n",
      "      dollar_bill       0.89      0.89      0.89         9\n",
      "          dolphin       1.00      0.40      0.57        10\n",
      "        dragonfly       1.00      0.07      0.12        15\n",
      "  electric_guitar       0.68      0.94      0.79        18\n",
      "         elephant       1.00      0.38      0.55        16\n",
      "              emu       0.00      0.00      0.00        11\n",
      "        euphonium       1.00      0.92      0.96        12\n",
      "             ewer       0.00      0.00      0.00        15\n",
      "            ferry       1.00      0.67      0.80        12\n",
      "         flamingo       0.85      0.79      0.81        14\n",
      "    flamingo_head       0.00      0.00      0.00         7\n",
      "         garfield       1.00      0.75      0.86         4\n",
      "          gerenuk       0.00      0.00      0.00         4\n",
      "       gramophone       0.00      0.00      0.00        10\n",
      "      grand_piano       0.95      0.90      0.93        21\n",
      "        hawksbill       0.06      0.75      0.11        20\n",
      "        headphone       1.00      0.50      0.67        10\n",
      "         hedgehog       0.88      0.88      0.88         8\n",
      "       helicopter       0.53      0.73      0.62        22\n",
      "             ibis       1.00      0.78      0.88        18\n",
      "     inline_skate       1.00      0.83      0.91         6\n",
      "      joshua_tree       1.00      0.87      0.93        15\n",
      "         kangaroo       0.63      0.92      0.75        13\n",
      "            ketch       0.86      0.86      0.86        21\n",
      "             lamp       0.00      0.00      0.00        16\n",
      "           laptop       0.85      1.00      0.92        17\n",
      "            llama       0.00      0.00      0.00        16\n",
      "          lobster       0.00      0.00      0.00         9\n",
      "            lotus       0.00      0.00      0.00        10\n",
      "         mandolin       0.00      0.00      0.00         5\n",
      "           mayfly       0.67      0.33      0.44         6\n",
      "          menorah       0.88      0.78      0.82         9\n",
      "        metronome       1.00      1.00      1.00         5\n",
      "          minaret       1.00      1.00      1.00        10\n",
      "         nautilus       1.00      0.91      0.95        11\n",
      "          octopus       0.00      0.00      0.00         6\n",
      "            okapi       0.00      0.00      0.00         7\n",
      "           pagoda       0.00      0.00      0.00        12\n",
      "            panda       0.91      0.83      0.87        12\n",
      "           pigeon       1.00      1.00      1.00         7\n",
      "            pizza       1.00      0.92      0.96        12\n",
      "         platypus       0.00      0.00      0.00         8\n",
      "          pyramid       0.78      0.88      0.82         8\n",
      "         revolver       0.90      0.82      0.86        11\n",
      "            rhino       0.00      0.00      0.00        13\n",
      "          rooster       0.00      0.00      0.00        10\n",
      "        saxophone       1.00      1.00      1.00         3\n",
      "         schooner       0.77      0.67      0.71        15\n",
      "         scissors       1.00      0.50      0.67         4\n",
      "         scorpion       0.71      0.67      0.69        18\n",
      "        sea_horse       0.00      0.00      0.00         9\n",
      "           snoopy       0.00      0.00      0.00         8\n",
      "      soccer_ball       1.00      0.89      0.94         9\n",
      "          stapler       1.00      0.71      0.83         7\n",
      "         starfish       0.88      0.93      0.90        15\n",
      "      stegosaurus       0.83      0.77      0.80        13\n",
      "        stop_sign       1.00      1.00      1.00        15\n",
      "       strawberry       0.83      0.83      0.83         6\n",
      "        sunflower       1.00      0.95      0.98        21\n",
      "             tick       1.00      1.00      1.00         6\n",
      "        trilobite       0.96      0.96      0.96        23\n",
      "         umbrella       1.00      0.82      0.90        22\n",
      "            watch       0.95      0.98      0.97        58\n",
      "      water_lilly       0.41      1.00      0.58         7\n",
      "       wheelchair       1.00      0.71      0.83        17\n",
      "         wild_cat       0.00      0.00      0.00         9\n",
      "    windsor_chair       1.00      1.00      1.00        12\n",
      "           wrench       0.60      0.50      0.55         6\n",
      "         yin_yang       1.00      0.80      0.89        10\n",
      "\n",
      "         accuracy                           0.73      1829\n",
      "        macro avg       0.62      0.57      0.58      1829\n",
      "     weighted avg       0.73      0.73      0.71      1829\n",
      "\n"
     ]
    },
    {
     "data": {
      "image/png": "[encoded data removed]",
      "text/plain": [
       "<Figure size 432x288 with 1 Axes>"
      ]
     },
     "metadata": {
      "tags": []
     },
     "output_type": "display_data"
    }
   ],
   "source": [
    "# Evaluation\n",
    "predictions = pre_trained_model_vgg_fine.predict(x_test, batch_size=128)\n",
    "print(\"Evaluation: \",\n",
    "      \"\\n\",\n",
    "      classification_report(y_test.argmax(axis=1), predictions.argmax(axis=1), target_names = y_set)\n",
    "      )\n",
    "\n",
    "# # graphs\n",
    "# epochs is externally defined above in order to be implemented here\n",
    "plotting_model(vgg_aug_fine , epochs)"
   ]
  },
  {
   "cell_type": "markdown",
   "metadata": {
    "id": "zDwksNg6uENP"
   },
   "source": [
    "- El fine tuning ejecutado no mejora los resultados obtenidos con el número de épocas con el que estamos trabajando, pero lo dejamos por aquí para dar cuenta del método utilizado. \n",
    "\n",
    "- Observando las trayectorias de *train/val loss* y *train/val accuracy*, merece la pena trabajar con más épocas y ver si conseguimos mejorar el resultado."
   ]
  },
  {
   "cell_type": "markdown",
   "metadata": {
    "id": "UlIjbJqxkZeR"
   },
   "source": [
    "### Modelo 2: ResNet-50.\n",
    "\n",
    "Usamos de inicio Data Augmentation."
   ]
  },
  {
   "cell_type": "markdown",
   "metadata": {
    "id": "01UoIneNkt2o"
   },
   "source": [
    "- Data augmentation."
   ]
  },
  {
   "cell_type": "code",
   "execution_count": 57,
   "metadata": {
    "colab": {
     "base_uri": "https://localhost:8080/",
     "height": 35
    },
    "id": "_wMzDZYzkn6N",
    "outputId": "c0612041-d9a2-432a-fcb0-fd58042efaee"
   },
   "outputs": [
    {
     "data": {
      "application/vnd.google.colaboratory.intrinsic+json": {
       "type": "string"
      },
      "text/plain": [
       "'Generado anteriormente'"
      ]
     },
     "execution_count": 57,
     "metadata": {
      "tags": []
     },
     "output_type": "execute_result"
    }
   ],
   "source": [
    "# DataGenerator\n",
    "'''Generado anteriormente'''"
   ]
  },
  {
   "cell_type": "code",
   "execution_count": 58,
   "metadata": {
    "colab": {
     "base_uri": "https://localhost:8080/"
    },
    "id": "AuwU0j3V0nP2",
    "outputId": "ec4017c6-e60a-42b1-8173-80e003d034d6"
   },
   "outputs": [
    {
     "name": "stdout",
     "output_type": "stream",
     "text": [
      "Downloading data from https://storage.googleapis.com/tensorflow/keras-applications/resnet/resnet50_weights_tf_dim_ordering_tf_kernels_notop.h5\n",
      "94773248/94765736 [==============================] - 1s 0us/step\n",
      "Model: \"resnet50\"\n",
      "__________________________________________________________________________________________________\n",
      "Layer (type)                    Output Shape         Param #     Connected to                     \n",
      "==================================================================================================\n",
      "input_3 (InputLayer)            [(None, 128, 128, 3) 0                                            \n",
      "__________________________________________________________________________________________________\n",
      "conv1_pad (ZeroPadding2D)       (None, 134, 134, 3)  0           input_3[0][0]                    \n",
      "__________________________________________________________________________________________________\n",
      "conv1_conv (Conv2D)             (None, 64, 64, 64)   9472        conv1_pad[0][0]                  \n",
      "__________________________________________________________________________________________________\n",
      "conv1_bn (BatchNormalization)   (None, 64, 64, 64)   256         conv1_conv[0][0]                 \n",
      "__________________________________________________________________________________________________\n",
      "conv1_relu (Activation)         (None, 64, 64, 64)   0           conv1_bn[0][0]                   \n",
      "__________________________________________________________________________________________________\n",
      "pool1_pad (ZeroPadding2D)       (None, 66, 66, 64)   0           conv1_relu[0][0]                 \n",
      "__________________________________________________________________________________________________\n",
      "pool1_pool (MaxPooling2D)       (None, 32, 32, 64)   0           pool1_pad[0][0]                  \n",
      "__________________________________________________________________________________________________\n",
      "conv2_block1_1_conv (Conv2D)    (None, 32, 32, 64)   4160        pool1_pool[0][0]                 \n",
      "__________________________________________________________________________________________________\n",
      "conv2_block1_1_bn (BatchNormali (None, 32, 32, 64)   256         conv2_block1_1_conv[0][0]        \n",
      "__________________________________________________________________________________________________\n",
      "conv2_block1_1_relu (Activation (None, 32, 32, 64)   0           conv2_block1_1_bn[0][0]          \n",
      "__________________________________________________________________________________________________\n",
      "conv2_block1_2_conv (Conv2D)    (None, 32, 32, 64)   36928       conv2_block1_1_relu[0][0]        \n",
      "__________________________________________________________________________________________________\n",
      "conv2_block1_2_bn (BatchNormali (None, 32, 32, 64)   256         conv2_block1_2_conv[0][0]        \n",
      "__________________________________________________________________________________________________\n",
      "conv2_block1_2_relu (Activation (None, 32, 32, 64)   0           conv2_block1_2_bn[0][0]          \n",
      "__________________________________________________________________________________________________\n",
      "conv2_block1_0_conv (Conv2D)    (None, 32, 32, 256)  16640       pool1_pool[0][0]                 \n",
      "__________________________________________________________________________________________________\n",
      "conv2_block1_3_conv (Conv2D)    (None, 32, 32, 256)  16640       conv2_block1_2_relu[0][0]        \n",
      "__________________________________________________________________________________________________\n",
      "conv2_block1_0_bn (BatchNormali (None, 32, 32, 256)  1024        conv2_block1_0_conv[0][0]        \n",
      "__________________________________________________________________________________________________\n",
      "conv2_block1_3_bn (BatchNormali (None, 32, 32, 256)  1024        conv2_block1_3_conv[0][0]        \n",
      "__________________________________________________________________________________________________\n",
      "conv2_block1_add (Add)          (None, 32, 32, 256)  0           conv2_block1_0_bn[0][0]          \n",
      "                                                                 conv2_block1_3_bn[0][0]          \n",
      "__________________________________________________________________________________________________\n",
      "conv2_block1_out (Activation)   (None, 32, 32, 256)  0           conv2_block1_add[0][0]           \n",
      "__________________________________________________________________________________________________\n",
      "conv2_block2_1_conv (Conv2D)    (None, 32, 32, 64)   16448       conv2_block1_out[0][0]           \n",
      "__________________________________________________________________________________________________\n",
      "conv2_block2_1_bn (BatchNormali (None, 32, 32, 64)   256         conv2_block2_1_conv[0][0]        \n",
      "__________________________________________________________________________________________________\n",
      "conv2_block2_1_relu (Activation (None, 32, 32, 64)   0           conv2_block2_1_bn[0][0]          \n",
      "__________________________________________________________________________________________________\n",
      "conv2_block2_2_conv (Conv2D)    (None, 32, 32, 64)   36928       conv2_block2_1_relu[0][0]        \n",
      "__________________________________________________________________________________________________\n",
      "conv2_block2_2_bn (BatchNormali (None, 32, 32, 64)   256         conv2_block2_2_conv[0][0]        \n",
      "__________________________________________________________________________________________________\n",
      "conv2_block2_2_relu (Activation (None, 32, 32, 64)   0           conv2_block2_2_bn[0][0]          \n",
      "__________________________________________________________________________________________________\n",
      "conv2_block2_3_conv (Conv2D)    (None, 32, 32, 256)  16640       conv2_block2_2_relu[0][0]        \n",
      "__________________________________________________________________________________________________\n",
      "conv2_block2_3_bn (BatchNormali (None, 32, 32, 256)  1024        conv2_block2_3_conv[0][0]        \n",
      "__________________________________________________________________________________________________\n",
      "conv2_block2_add (Add)          (None, 32, 32, 256)  0           conv2_block1_out[0][0]           \n",
      "                                                                 conv2_block2_3_bn[0][0]          \n",
      "__________________________________________________________________________________________________\n",
      "conv2_block2_out (Activation)   (None, 32, 32, 256)  0           conv2_block2_add[0][0]           \n",
      "__________________________________________________________________________________________________\n",
      "conv2_block3_1_conv (Conv2D)    (None, 32, 32, 64)   16448       conv2_block2_out[0][0]           \n",
      "__________________________________________________________________________________________________\n",
      "conv2_block3_1_bn (BatchNormali (None, 32, 32, 64)   256         conv2_block3_1_conv[0][0]        \n",
      "__________________________________________________________________________________________________\n",
      "conv2_block3_1_relu (Activation (None, 32, 32, 64)   0           conv2_block3_1_bn[0][0]          \n",
      "__________________________________________________________________________________________________\n",
      "conv2_block3_2_conv (Conv2D)    (None, 32, 32, 64)   36928       conv2_block3_1_relu[0][0]        \n",
      "__________________________________________________________________________________________________\n",
      "conv2_block3_2_bn (BatchNormali (None, 32, 32, 64)   256         conv2_block3_2_conv[0][0]        \n",
      "__________________________________________________________________________________________________\n",
      "conv2_block3_2_relu (Activation (None, 32, 32, 64)   0           conv2_block3_2_bn[0][0]          \n",
      "__________________________________________________________________________________________________\n",
      "conv2_block3_3_conv (Conv2D)    (None, 32, 32, 256)  16640       conv2_block3_2_relu[0][0]        \n",
      "__________________________________________________________________________________________________\n",
      "conv2_block3_3_bn (BatchNormali (None, 32, 32, 256)  1024        conv2_block3_3_conv[0][0]        \n",
      "__________________________________________________________________________________________________\n",
      "conv2_block3_add (Add)          (None, 32, 32, 256)  0           conv2_block2_out[0][0]           \n",
      "                                                                 conv2_block3_3_bn[0][0]          \n",
      "__________________________________________________________________________________________________\n",
      "conv2_block3_out (Activation)   (None, 32, 32, 256)  0           conv2_block3_add[0][0]           \n",
      "__________________________________________________________________________________________________\n",
      "conv3_block1_1_conv (Conv2D)    (None, 16, 16, 128)  32896       conv2_block3_out[0][0]           \n",
      "__________________________________________________________________________________________________\n",
      "conv3_block1_1_bn (BatchNormali (None, 16, 16, 128)  512         conv3_block1_1_conv[0][0]        \n",
      "__________________________________________________________________________________________________\n",
      "conv3_block1_1_relu (Activation (None, 16, 16, 128)  0           conv3_block1_1_bn[0][0]          \n",
      "__________________________________________________________________________________________________\n",
      "conv3_block1_2_conv (Conv2D)    (None, 16, 16, 128)  147584      conv3_block1_1_relu[0][0]        \n",
      "__________________________________________________________________________________________________\n",
      "conv3_block1_2_bn (BatchNormali (None, 16, 16, 128)  512         conv3_block1_2_conv[0][0]        \n",
      "__________________________________________________________________________________________________\n",
      "conv3_block1_2_relu (Activation (None, 16, 16, 128)  0           conv3_block1_2_bn[0][0]          \n",
      "__________________________________________________________________________________________________\n",
      "conv3_block1_0_conv (Conv2D)    (None, 16, 16, 512)  131584      conv2_block3_out[0][0]           \n",
      "__________________________________________________________________________________________________\n",
      "conv3_block1_3_conv (Conv2D)    (None, 16, 16, 512)  66048       conv3_block1_2_relu[0][0]        \n",
      "__________________________________________________________________________________________________\n",
      "conv3_block1_0_bn (BatchNormali (None, 16, 16, 512)  2048        conv3_block1_0_conv[0][0]        \n",
      "__________________________________________________________________________________________________\n",
      "conv3_block1_3_bn (BatchNormali (None, 16, 16, 512)  2048        conv3_block1_3_conv[0][0]        \n",
      "__________________________________________________________________________________________________\n",
      "conv3_block1_add (Add)          (None, 16, 16, 512)  0           conv3_block1_0_bn[0][0]          \n",
      "                                                                 conv3_block1_3_bn[0][0]          \n",
      "__________________________________________________________________________________________________\n",
      "conv3_block1_out (Activation)   (None, 16, 16, 512)  0           conv3_block1_add[0][0]           \n",
      "__________________________________________________________________________________________________\n",
      "conv3_block2_1_conv (Conv2D)    (None, 16, 16, 128)  65664       conv3_block1_out[0][0]           \n",
      "__________________________________________________________________________________________________\n",
      "conv3_block2_1_bn (BatchNormali (None, 16, 16, 128)  512         conv3_block2_1_conv[0][0]        \n",
      "__________________________________________________________________________________________________\n",
      "conv3_block2_1_relu (Activation (None, 16, 16, 128)  0           conv3_block2_1_bn[0][0]          \n",
      "__________________________________________________________________________________________________\n",
      "conv3_block2_2_conv (Conv2D)    (None, 16, 16, 128)  147584      conv3_block2_1_relu[0][0]        \n",
      "__________________________________________________________________________________________________\n",
      "conv3_block2_2_bn (BatchNormali (None, 16, 16, 128)  512         conv3_block2_2_conv[0][0]        \n",
      "__________________________________________________________________________________________________\n",
      "conv3_block2_2_relu (Activation (None, 16, 16, 128)  0           conv3_block2_2_bn[0][0]          \n",
      "__________________________________________________________________________________________________\n",
      "conv3_block2_3_conv (Conv2D)    (None, 16, 16, 512)  66048       conv3_block2_2_relu[0][0]        \n",
      "__________________________________________________________________________________________________\n",
      "conv3_block2_3_bn (BatchNormali (None, 16, 16, 512)  2048        conv3_block2_3_conv[0][0]        \n",
      "__________________________________________________________________________________________________\n",
      "conv3_block2_add (Add)          (None, 16, 16, 512)  0           conv3_block1_out[0][0]           \n",
      "                                                                 conv3_block2_3_bn[0][0]          \n",
      "__________________________________________________________________________________________________\n",
      "conv3_block2_out (Activation)   (None, 16, 16, 512)  0           conv3_block2_add[0][0]           \n",
      "__________________________________________________________________________________________________\n",
      "conv3_block3_1_conv (Conv2D)    (None, 16, 16, 128)  65664       conv3_block2_out[0][0]           \n",
      "__________________________________________________________________________________________________\n",
      "conv3_block3_1_bn (BatchNormali (None, 16, 16, 128)  512         conv3_block3_1_conv[0][0]        \n",
      "__________________________________________________________________________________________________\n",
      "conv3_block3_1_relu (Activation (None, 16, 16, 128)  0           conv3_block3_1_bn[0][0]          \n",
      "__________________________________________________________________________________________________\n",
      "conv3_block3_2_conv (Conv2D)    (None, 16, 16, 128)  147584      conv3_block3_1_relu[0][0]        \n",
      "__________________________________________________________________________________________________\n",
      "conv3_block3_2_bn (BatchNormali (None, 16, 16, 128)  512         conv3_block3_2_conv[0][0]        \n",
      "__________________________________________________________________________________________________\n",
      "conv3_block3_2_relu (Activation (None, 16, 16, 128)  0           conv3_block3_2_bn[0][0]          \n",
      "__________________________________________________________________________________________________\n",
      "conv3_block3_3_conv (Conv2D)    (None, 16, 16, 512)  66048       conv3_block3_2_relu[0][0]        \n",
      "__________________________________________________________________________________________________\n",
      "conv3_block3_3_bn (BatchNormali (None, 16, 16, 512)  2048        conv3_block3_3_conv[0][0]        \n",
      "__________________________________________________________________________________________________\n",
      "conv3_block3_add (Add)          (None, 16, 16, 512)  0           conv3_block2_out[0][0]           \n",
      "                                                                 conv3_block3_3_bn[0][0]          \n",
      "__________________________________________________________________________________________________\n",
      "conv3_block3_out (Activation)   (None, 16, 16, 512)  0           conv3_block3_add[0][0]           \n",
      "__________________________________________________________________________________________________\n",
      "conv3_block4_1_conv (Conv2D)    (None, 16, 16, 128)  65664       conv3_block3_out[0][0]           \n",
      "__________________________________________________________________________________________________\n",
      "conv3_block4_1_bn (BatchNormali (None, 16, 16, 128)  512         conv3_block4_1_conv[0][0]        \n",
      "__________________________________________________________________________________________________\n",
      "conv3_block4_1_relu (Activation (None, 16, 16, 128)  0           conv3_block4_1_bn[0][0]          \n",
      "__________________________________________________________________________________________________\n",
      "conv3_block4_2_conv (Conv2D)    (None, 16, 16, 128)  147584      conv3_block4_1_relu[0][0]        \n",
      "__________________________________________________________________________________________________\n",
      "conv3_block4_2_bn (BatchNormali (None, 16, 16, 128)  512         conv3_block4_2_conv[0][0]        \n",
      "__________________________________________________________________________________________________\n",
      "conv3_block4_2_relu (Activation (None, 16, 16, 128)  0           conv3_block4_2_bn[0][0]          \n",
      "__________________________________________________________________________________________________\n",
      "conv3_block4_3_conv (Conv2D)    (None, 16, 16, 512)  66048       conv3_block4_2_relu[0][0]        \n",
      "__________________________________________________________________________________________________\n",
      "conv3_block4_3_bn (BatchNormali (None, 16, 16, 512)  2048        conv3_block4_3_conv[0][0]        \n",
      "__________________________________________________________________________________________________\n",
      "conv3_block4_add (Add)          (None, 16, 16, 512)  0           conv3_block3_out[0][0]           \n",
      "                                                                 conv3_block4_3_bn[0][0]          \n",
      "__________________________________________________________________________________________________\n",
      "conv3_block4_out (Activation)   (None, 16, 16, 512)  0           conv3_block4_add[0][0]           \n",
      "__________________________________________________________________________________________________\n",
      "conv4_block1_1_conv (Conv2D)    (None, 8, 8, 256)    131328      conv3_block4_out[0][0]           \n",
      "__________________________________________________________________________________________________\n",
      "conv4_block1_1_bn (BatchNormali (None, 8, 8, 256)    1024        conv4_block1_1_conv[0][0]        \n",
      "__________________________________________________________________________________________________\n",
      "conv4_block1_1_relu (Activation (None, 8, 8, 256)    0           conv4_block1_1_bn[0][0]          \n",
      "__________________________________________________________________________________________________\n",
      "conv4_block1_2_conv (Conv2D)    (None, 8, 8, 256)    590080      conv4_block1_1_relu[0][0]        \n",
      "__________________________________________________________________________________________________\n",
      "conv4_block1_2_bn (BatchNormali (None, 8, 8, 256)    1024        conv4_block1_2_conv[0][0]        \n",
      "__________________________________________________________________________________________________\n",
      "conv4_block1_2_relu (Activation (None, 8, 8, 256)    0           conv4_block1_2_bn[0][0]          \n",
      "__________________________________________________________________________________________________\n",
      "conv4_block1_0_conv (Conv2D)    (None, 8, 8, 1024)   525312      conv3_block4_out[0][0]           \n",
      "__________________________________________________________________________________________________\n",
      "conv4_block1_3_conv (Conv2D)    (None, 8, 8, 1024)   263168      conv4_block1_2_relu[0][0]        \n",
      "__________________________________________________________________________________________________\n",
      "conv4_block1_0_bn (BatchNormali (None, 8, 8, 1024)   4096        conv4_block1_0_conv[0][0]        \n",
      "__________________________________________________________________________________________________\n",
      "conv4_block1_3_bn (BatchNormali (None, 8, 8, 1024)   4096        conv4_block1_3_conv[0][0]        \n",
      "__________________________________________________________________________________________________\n",
      "conv4_block1_add (Add)          (None, 8, 8, 1024)   0           conv4_block1_0_bn[0][0]          \n",
      "                                                                 conv4_block1_3_bn[0][0]          \n",
      "__________________________________________________________________________________________________\n",
      "conv4_block1_out (Activation)   (None, 8, 8, 1024)   0           conv4_block1_add[0][0]           \n",
      "__________________________________________________________________________________________________\n",
      "conv4_block2_1_conv (Conv2D)    (None, 8, 8, 256)    262400      conv4_block1_out[0][0]           \n",
      "__________________________________________________________________________________________________\n",
      "conv4_block2_1_bn (BatchNormali (None, 8, 8, 256)    1024        conv4_block2_1_conv[0][0]        \n",
      "__________________________________________________________________________________________________\n",
      "conv4_block2_1_relu (Activation (None, 8, 8, 256)    0           conv4_block2_1_bn[0][0]          \n",
      "__________________________________________________________________________________________________\n",
      "conv4_block2_2_conv (Conv2D)    (None, 8, 8, 256)    590080      conv4_block2_1_relu[0][0]        \n",
      "__________________________________________________________________________________________________\n",
      "conv4_block2_2_bn (BatchNormali (None, 8, 8, 256)    1024        conv4_block2_2_conv[0][0]        \n",
      "__________________________________________________________________________________________________\n",
      "conv4_block2_2_relu (Activation (None, 8, 8, 256)    0           conv4_block2_2_bn[0][0]          \n",
      "__________________________________________________________________________________________________\n",
      "conv4_block2_3_conv (Conv2D)    (None, 8, 8, 1024)   263168      conv4_block2_2_relu[0][0]        \n",
      "__________________________________________________________________________________________________\n",
      "conv4_block2_3_bn (BatchNormali (None, 8, 8, 1024)   4096        conv4_block2_3_conv[0][0]        \n",
      "__________________________________________________________________________________________________\n",
      "conv4_block2_add (Add)          (None, 8, 8, 1024)   0           conv4_block1_out[0][0]           \n",
      "                                                                 conv4_block2_3_bn[0][0]          \n",
      "__________________________________________________________________________________________________\n",
      "conv4_block2_out (Activation)   (None, 8, 8, 1024)   0           conv4_block2_add[0][0]           \n",
      "__________________________________________________________________________________________________\n",
      "conv4_block3_1_conv (Conv2D)    (None, 8, 8, 256)    262400      conv4_block2_out[0][0]           \n",
      "__________________________________________________________________________________________________\n",
      "conv4_block3_1_bn (BatchNormali (None, 8, 8, 256)    1024        conv4_block3_1_conv[0][0]        \n",
      "__________________________________________________________________________________________________\n",
      "conv4_block3_1_relu (Activation (None, 8, 8, 256)    0           conv4_block3_1_bn[0][0]          \n",
      "__________________________________________________________________________________________________\n",
      "conv4_block3_2_conv (Conv2D)    (None, 8, 8, 256)    590080      conv4_block3_1_relu[0][0]        \n",
      "__________________________________________________________________________________________________\n",
      "conv4_block3_2_bn (BatchNormali (None, 8, 8, 256)    1024        conv4_block3_2_conv[0][0]        \n",
      "__________________________________________________________________________________________________\n",
      "conv4_block3_2_relu (Activation (None, 8, 8, 256)    0           conv4_block3_2_bn[0][0]          \n",
      "__________________________________________________________________________________________________\n",
      "conv4_block3_3_conv (Conv2D)    (None, 8, 8, 1024)   263168      conv4_block3_2_relu[0][0]        \n",
      "__________________________________________________________________________________________________\n",
      "conv4_block3_3_bn (BatchNormali (None, 8, 8, 1024)   4096        conv4_block3_3_conv[0][0]        \n",
      "__________________________________________________________________________________________________\n",
      "conv4_block3_add (Add)          (None, 8, 8, 1024)   0           conv4_block2_out[0][0]           \n",
      "                                                                 conv4_block3_3_bn[0][0]          \n",
      "__________________________________________________________________________________________________\n",
      "conv4_block3_out (Activation)   (None, 8, 8, 1024)   0           conv4_block3_add[0][0]           \n",
      "__________________________________________________________________________________________________\n",
      "conv4_block4_1_conv (Conv2D)    (None, 8, 8, 256)    262400      conv4_block3_out[0][0]           \n",
      "__________________________________________________________________________________________________\n",
      "conv4_block4_1_bn (BatchNormali (None, 8, 8, 256)    1024        conv4_block4_1_conv[0][0]        \n",
      "__________________________________________________________________________________________________\n",
      "conv4_block4_1_relu (Activation (None, 8, 8, 256)    0           conv4_block4_1_bn[0][0]          \n",
      "__________________________________________________________________________________________________\n",
      "conv4_block4_2_conv (Conv2D)    (None, 8, 8, 256)    590080      conv4_block4_1_relu[0][0]        \n",
      "__________________________________________________________________________________________________\n",
      "conv4_block4_2_bn (BatchNormali (None, 8, 8, 256)    1024        conv4_block4_2_conv[0][0]        \n",
      "__________________________________________________________________________________________________\n",
      "conv4_block4_2_relu (Activation (None, 8, 8, 256)    0           conv4_block4_2_bn[0][0]          \n",
      "__________________________________________________________________________________________________\n",
      "conv4_block4_3_conv (Conv2D)    (None, 8, 8, 1024)   263168      conv4_block4_2_relu[0][0]        \n",
      "__________________________________________________________________________________________________\n",
      "conv4_block4_3_bn (BatchNormali (None, 8, 8, 1024)   4096        conv4_block4_3_conv[0][0]        \n",
      "__________________________________________________________________________________________________\n",
      "conv4_block4_add (Add)          (None, 8, 8, 1024)   0           conv4_block3_out[0][0]           \n",
      "                                                                 conv4_block4_3_bn[0][0]          \n",
      "__________________________________________________________________________________________________\n",
      "conv4_block4_out (Activation)   (None, 8, 8, 1024)   0           conv4_block4_add[0][0]           \n",
      "__________________________________________________________________________________________________\n",
      "conv4_block5_1_conv (Conv2D)    (None, 8, 8, 256)    262400      conv4_block4_out[0][0]           \n",
      "__________________________________________________________________________________________________\n",
      "conv4_block5_1_bn (BatchNormali (None, 8, 8, 256)    1024        conv4_block5_1_conv[0][0]        \n",
      "__________________________________________________________________________________________________\n",
      "conv4_block5_1_relu (Activation (None, 8, 8, 256)    0           conv4_block5_1_bn[0][0]          \n",
      "__________________________________________________________________________________________________\n",
      "conv4_block5_2_conv (Conv2D)    (None, 8, 8, 256)    590080      conv4_block5_1_relu[0][0]        \n",
      "__________________________________________________________________________________________________\n",
      "conv4_block5_2_bn (BatchNormali (None, 8, 8, 256)    1024        conv4_block5_2_conv[0][0]        \n",
      "__________________________________________________________________________________________________\n",
      "conv4_block5_2_relu (Activation (None, 8, 8, 256)    0           conv4_block5_2_bn[0][0]          \n",
      "__________________________________________________________________________________________________\n",
      "conv4_block5_3_conv (Conv2D)    (None, 8, 8, 1024)   263168      conv4_block5_2_relu[0][0]        \n",
      "__________________________________________________________________________________________________\n",
      "conv4_block5_3_bn (BatchNormali (None, 8, 8, 1024)   4096        conv4_block5_3_conv[0][0]        \n",
      "__________________________________________________________________________________________________\n",
      "conv4_block5_add (Add)          (None, 8, 8, 1024)   0           conv4_block4_out[0][0]           \n",
      "                                                                 conv4_block5_3_bn[0][0]          \n",
      "__________________________________________________________________________________________________\n",
      "conv4_block5_out (Activation)   (None, 8, 8, 1024)   0           conv4_block5_add[0][0]           \n",
      "__________________________________________________________________________________________________\n",
      "conv4_block6_1_conv (Conv2D)    (None, 8, 8, 256)    262400      conv4_block5_out[0][0]           \n",
      "__________________________________________________________________________________________________\n",
      "conv4_block6_1_bn (BatchNormali (None, 8, 8, 256)    1024        conv4_block6_1_conv[0][0]        \n",
      "__________________________________________________________________________________________________\n",
      "conv4_block6_1_relu (Activation (None, 8, 8, 256)    0           conv4_block6_1_bn[0][0]          \n",
      "__________________________________________________________________________________________________\n",
      "conv4_block6_2_conv (Conv2D)    (None, 8, 8, 256)    590080      conv4_block6_1_relu[0][0]        \n",
      "__________________________________________________________________________________________________\n",
      "conv4_block6_2_bn (BatchNormali (None, 8, 8, 256)    1024        conv4_block6_2_conv[0][0]        \n",
      "__________________________________________________________________________________________________\n",
      "conv4_block6_2_relu (Activation (None, 8, 8, 256)    0           conv4_block6_2_bn[0][0]          \n",
      "__________________________________________________________________________________________________\n",
      "conv4_block6_3_conv (Conv2D)    (None, 8, 8, 1024)   263168      conv4_block6_2_relu[0][0]        \n",
      "__________________________________________________________________________________________________\n",
      "conv4_block6_3_bn (BatchNormali (None, 8, 8, 1024)   4096        conv4_block6_3_conv[0][0]        \n",
      "__________________________________________________________________________________________________\n",
      "conv4_block6_add (Add)          (None, 8, 8, 1024)   0           conv4_block5_out[0][0]           \n",
      "                                                                 conv4_block6_3_bn[0][0]          \n",
      "__________________________________________________________________________________________________\n",
      "conv4_block6_out (Activation)   (None, 8, 8, 1024)   0           conv4_block6_add[0][0]           \n",
      "__________________________________________________________________________________________________\n",
      "conv5_block1_1_conv (Conv2D)    (None, 4, 4, 512)    524800      conv4_block6_out[0][0]           \n",
      "__________________________________________________________________________________________________\n",
      "conv5_block1_1_bn (BatchNormali (None, 4, 4, 512)    2048        conv5_block1_1_conv[0][0]        \n",
      "__________________________________________________________________________________________________\n",
      "conv5_block1_1_relu (Activation (None, 4, 4, 512)    0           conv5_block1_1_bn[0][0]          \n",
      "__________________________________________________________________________________________________\n",
      "conv5_block1_2_conv (Conv2D)    (None, 4, 4, 512)    2359808     conv5_block1_1_relu[0][0]        \n",
      "__________________________________________________________________________________________________\n",
      "conv5_block1_2_bn (BatchNormali (None, 4, 4, 512)    2048        conv5_block1_2_conv[0][0]        \n",
      "__________________________________________________________________________________________________\n",
      "conv5_block1_2_relu (Activation (None, 4, 4, 512)    0           conv5_block1_2_bn[0][0]          \n",
      "__________________________________________________________________________________________________\n",
      "conv5_block1_0_conv (Conv2D)    (None, 4, 4, 2048)   2099200     conv4_block6_out[0][0]           \n",
      "__________________________________________________________________________________________________\n",
      "conv5_block1_3_conv (Conv2D)    (None, 4, 4, 2048)   1050624     conv5_block1_2_relu[0][0]        \n",
      "__________________________________________________________________________________________________\n",
      "conv5_block1_0_bn (BatchNormali (None, 4, 4, 2048)   8192        conv5_block1_0_conv[0][0]        \n",
      "__________________________________________________________________________________________________\n",
      "conv5_block1_3_bn (BatchNormali (None, 4, 4, 2048)   8192        conv5_block1_3_conv[0][0]        \n",
      "__________________________________________________________________________________________________\n",
      "conv5_block1_add (Add)          (None, 4, 4, 2048)   0           conv5_block1_0_bn[0][0]          \n",
      "                                                                 conv5_block1_3_bn[0][0]          \n",
      "__________________________________________________________________________________________________\n",
      "conv5_block1_out (Activation)   (None, 4, 4, 2048)   0           conv5_block1_add[0][0]           \n",
      "__________________________________________________________________________________________________\n",
      "conv5_block2_1_conv (Conv2D)    (None, 4, 4, 512)    1049088     conv5_block1_out[0][0]           \n",
      "__________________________________________________________________________________________________\n",
      "conv5_block2_1_bn (BatchNormali (None, 4, 4, 512)    2048        conv5_block2_1_conv[0][0]        \n",
      "__________________________________________________________________________________________________\n",
      "conv5_block2_1_relu (Activation (None, 4, 4, 512)    0           conv5_block2_1_bn[0][0]          \n",
      "__________________________________________________________________________________________________\n",
      "conv5_block2_2_conv (Conv2D)    (None, 4, 4, 512)    2359808     conv5_block2_1_relu[0][0]        \n",
      "__________________________________________________________________________________________________\n",
      "conv5_block2_2_bn (BatchNormali (None, 4, 4, 512)    2048        conv5_block2_2_conv[0][0]        \n",
      "__________________________________________________________________________________________________\n",
      "conv5_block2_2_relu (Activation (None, 4, 4, 512)    0           conv5_block2_2_bn[0][0]          \n",
      "__________________________________________________________________________________________________\n",
      "conv5_block2_3_conv (Conv2D)    (None, 4, 4, 2048)   1050624     conv5_block2_2_relu[0][0]        \n",
      "__________________________________________________________________________________________________\n",
      "conv5_block2_3_bn (BatchNormali (None, 4, 4, 2048)   8192        conv5_block2_3_conv[0][0]        \n",
      "__________________________________________________________________________________________________\n",
      "conv5_block2_add (Add)          (None, 4, 4, 2048)   0           conv5_block1_out[0][0]           \n",
      "                                                                 conv5_block2_3_bn[0][0]          \n",
      "__________________________________________________________________________________________________\n",
      "conv5_block2_out (Activation)   (None, 4, 4, 2048)   0           conv5_block2_add[0][0]           \n",
      "__________________________________________________________________________________________________\n",
      "conv5_block3_1_conv (Conv2D)    (None, 4, 4, 512)    1049088     conv5_block2_out[0][0]           \n",
      "__________________________________________________________________________________________________\n",
      "conv5_block3_1_bn (BatchNormali (None, 4, 4, 512)    2048        conv5_block3_1_conv[0][0]        \n",
      "__________________________________________________________________________________________________\n",
      "conv5_block3_1_relu (Activation (None, 4, 4, 512)    0           conv5_block3_1_bn[0][0]          \n",
      "__________________________________________________________________________________________________\n",
      "conv5_block3_2_conv (Conv2D)    (None, 4, 4, 512)    2359808     conv5_block3_1_relu[0][0]        \n",
      "__________________________________________________________________________________________________\n",
      "conv5_block3_2_bn (BatchNormali (None, 4, 4, 512)    2048        conv5_block3_2_conv[0][0]        \n",
      "__________________________________________________________________________________________________\n",
      "conv5_block3_2_relu (Activation (None, 4, 4, 512)    0           conv5_block3_2_bn[0][0]          \n",
      "__________________________________________________________________________________________________\n",
      "conv5_block3_3_conv (Conv2D)    (None, 4, 4, 2048)   1050624     conv5_block3_2_relu[0][0]        \n",
      "__________________________________________________________________________________________________\n",
      "conv5_block3_3_bn (BatchNormali (None, 4, 4, 2048)   8192        conv5_block3_3_conv[0][0]        \n",
      "__________________________________________________________________________________________________\n",
      "conv5_block3_add (Add)          (None, 4, 4, 2048)   0           conv5_block2_out[0][0]           \n",
      "                                                                 conv5_block3_3_bn[0][0]          \n",
      "__________________________________________________________________________________________________\n",
      "conv5_block3_out (Activation)   (None, 4, 4, 2048)   0           conv5_block3_add[0][0]           \n",
      "==================================================================================================\n",
      "Total params: 23,587,712\n",
      "Trainable params: 23,534,592\n",
      "Non-trainable params: 53,120\n",
      "__________________________________________________________________________________________________\n"
     ]
    }
   ],
   "source": [
    "base_model_resnet = ResNet50(weights = 'imagenet', include_top = False, input_shape = (128,128,3))\n",
    "base_model_resnet.summary()"
   ]
  },
  {
   "cell_type": "markdown",
   "metadata": {
    "id": "ODL78trz0rDL"
   },
   "source": [
    "- Transfer Learning."
   ]
  },
  {
   "cell_type": "code",
   "execution_count": 59,
   "metadata": {
    "colab": {
     "base_uri": "https://localhost:8080/"
    },
    "id": "z-XOgSj7k1Jz",
    "outputId": "959ac3ed-2478-4b70-9471-11a6731417cc"
   },
   "outputs": [
    {
     "name": "stdout",
     "output_type": "stream",
     "text": [
      "Model: \"sequential_2\"\n",
      "_________________________________________________________________\n",
      "Layer (type)                 Output Shape              Param #   \n",
      "=================================================================\n",
      "resnet50 (Functional)        (None, 4, 4, 2048)        23587712  \n",
      "_________________________________________________________________\n",
      "flatten_3 (Flatten)          (None, 32768)             0         \n",
      "_________________________________________________________________\n",
      "dense_9 (Dense)              (None, 256)               8388864   \n",
      "_________________________________________________________________\n",
      "batch_normalization (BatchNo (None, 256)               1024      \n",
      "_________________________________________________________________\n",
      "dropout_6 (Dropout)          (None, 256)               0         \n",
      "_________________________________________________________________\n",
      "dense_10 (Dense)             (None, 256)               65792     \n",
      "_________________________________________________________________\n",
      "batch_normalization_1 (Batch (None, 256)               1024      \n",
      "_________________________________________________________________\n",
      "dropout_7 (Dropout)          (None, 256)               0         \n",
      "_________________________________________________________________\n",
      "dense_11 (Dense)             (None, 102)               26214     \n",
      "=================================================================\n",
      "Total params: 32,070,630\n",
      "Trainable params: 8,481,894\n",
      "Non-trainable params: 23,588,736\n",
      "_________________________________________________________________\n"
     ]
    }
   ],
   "source": [
    "base_model_resnet.trainable = False\n",
    "pre_trained_model_resnet = Sequential()\n",
    "\n",
    "pre_trained_model_resnet.add(base_model_resnet)\n",
    "pre_trained_model_resnet.add(layers.Flatten())\n",
    "pre_trained_model_resnet.add(layers.Dense(256, activation = 'relu'))\n",
    "pre_trained_model_resnet.add(layers.BatchNormalization())\n",
    "pre_trained_model_resnet.add(layers.Dropout(0.75))\n",
    "pre_trained_model_resnet.add(layers.Dense(256, activation = 'relu'))\n",
    "pre_trained_model_resnet.add(layers.BatchNormalization())\n",
    "pre_trained_model_resnet.add(layers.Dropout(0.75)) \n",
    "pre_trained_model_resnet.add(layers.Dense(102, activation = 'softmax'))\n",
    "\n",
    "pre_trained_model_resnet.summary()"
   ]
  },
  {
   "cell_type": "code",
   "execution_count": 60,
   "metadata": {
    "id": "4QohYp3c1DfG"
   },
   "outputs": [],
   "source": [
    "# Compiling\n",
    "pre_trained_model_resnet.compile(loss = \"categorical_crossentropy\", \n",
    "                              optimizer = Adam(learning_rate= 0.001, decay=0, beta_1=0.9, beta_2=0.999, epsilon=1e-08), \n",
    "                              metrics = [\"accuracy\"])"
   ]
  },
  {
   "cell_type": "code",
   "execution_count": 61,
   "metadata": {
    "colab": {
     "base_uri": "https://localhost:8080/"
    },
    "id": "jXGf2i0_1DfH",
    "outputId": "42412adc-1f6f-4d87-b5b2-6afcb9e4bf4e"
   },
   "outputs": [
    {
     "name": "stdout",
     "output_type": "stream",
     "text": [
      "Epoch 1/15\n",
      "228/228 [==============================] - 66s 271ms/step - loss: 3.3920 - accuracy: 0.3229 - val_loss: 1.5369 - val_accuracy: 0.6521\n",
      "Epoch 2/15\n",
      "228/228 [==============================] - 61s 266ms/step - loss: 2.0450 - accuracy: 0.5131 - val_loss: 1.0109 - val_accuracy: 0.7580\n",
      "Epoch 3/15\n",
      "228/228 [==============================] - 61s 264ms/step - loss: 1.5655 - accuracy: 0.5978 - val_loss: 0.7602 - val_accuracy: 0.8148\n",
      "Epoch 4/15\n",
      "228/228 [==============================] - 64s 281ms/step - loss: 1.3181 - accuracy: 0.6521 - val_loss: 0.6974 - val_accuracy: 0.8360\n",
      "Epoch 5/15\n",
      "228/228 [==============================] - 68s 297ms/step - loss: 1.1549 - accuracy: 0.6857 - val_loss: 0.6474 - val_accuracy: 0.8291\n",
      "Epoch 6/15\n",
      "228/228 [==============================] - 64s 277ms/step - loss: 1.0552 - accuracy: 0.7095 - val_loss: 0.6034 - val_accuracy: 0.8366\n",
      "Epoch 7/15\n",
      "228/228 [==============================] - 66s 286ms/step - loss: 0.9687 - accuracy: 0.7303 - val_loss: 0.5793 - val_accuracy: 0.8442\n",
      "Epoch 8/15\n",
      "228/228 [==============================] - 68s 296ms/step - loss: 0.9116 - accuracy: 0.7437 - val_loss: 0.5569 - val_accuracy: 0.8442\n",
      "Epoch 9/15\n",
      "228/228 [==============================] - 65s 282ms/step - loss: 0.8562 - accuracy: 0.7587 - val_loss: 0.5401 - val_accuracy: 0.8496\n",
      "Epoch 10/15\n",
      "228/228 [==============================] - 67s 294ms/step - loss: 0.8146 - accuracy: 0.7676 - val_loss: 0.5384 - val_accuracy: 0.8510\n",
      "Epoch 11/15\n",
      "228/228 [==============================] - 62s 268ms/step - loss: 0.7752 - accuracy: 0.7768 - val_loss: 0.5052 - val_accuracy: 0.8633\n",
      "Epoch 12/15\n",
      "228/228 [==============================] - 69s 301ms/step - loss: 0.7384 - accuracy: 0.7854 - val_loss: 0.5080 - val_accuracy: 0.8626\n",
      "Epoch 13/15\n",
      "228/228 [==============================] - 64s 279ms/step - loss: 0.7206 - accuracy: 0.7918 - val_loss: 0.5312 - val_accuracy: 0.8585\n",
      "Epoch 14/15\n",
      "228/228 [==============================] - 65s 283ms/step - loss: 0.6921 - accuracy: 0.7980 - val_loss: 0.5146 - val_accuracy: 0.8585\n",
      "Epoch 15/15\n",
      "228/228 [==============================] - 68s 292ms/step - loss: 0.6622 - accuracy: 0.8045 - val_loss: 0.5338 - val_accuracy: 0.8537\n"
     ]
    }
   ],
   "source": [
    "# Data Augmentation\n",
    "epochs= 15\n",
    "resnet_aug = pre_trained_model_resnet.fit(data_generator.flow(x_train, y_train, batch_size = 128, subset = 'training'), \n",
    "                                    steps_per_epoch = len(x_train)*4/128, epochs = epochs, workers = 2,\n",
    "                                    validation_data = data_generator.flow(x_train, y_train, batch_size = 128, subset = 'validation'))"
   ]
  },
  {
   "cell_type": "code",
   "execution_count": 62,
   "metadata": {
    "colab": {
     "base_uri": "https://localhost:8080/"
    },
    "id": "UDB3e5jF1DfH",
    "outputId": "6ffaab47-847b-4f84-eb74-a3ad71461155"
   },
   "outputs": [
    {
     "name": "stderr",
     "output_type": "stream",
     "text": [
      "/usr/local/lib/python3.7/dist-packages/tensorflow/python/keras/utils/generic_utils.py:497: CustomMaskWarning: Custom mask layers require a config and must override get_config. When loading, the custom mask layer must be passed to the custom_objects argument.\n",
      "  category=CustomMaskWarning)\n"
     ]
    }
   ],
   "source": [
    "# Saving model (por si me crashea colab)\n",
    "pre_trained_model_resnet.save(BASE_FOLDER+\"strategy_1_model_resnet_augmented.h5\")"
   ]
  },
  {
   "cell_type": "code",
   "execution_count": 63,
   "metadata": {
    "colab": {
     "base_uri": "https://localhost:8080/",
     "height": 1000
    },
    "id": "yer_gNDm1DfH",
    "outputId": "d378db54-761d-47a3-e3d9-ab5bbc7ed426"
   },
   "outputs": [
    {
     "name": "stdout",
     "output_type": "stream",
     "text": [
      "Evaluation:  \n",
      "                    precision    recall  f1-score   support\n",
      "\n",
      "BACKGROUND_Google       0.68      0.73      0.71        83\n",
      "            Faces       0.97      1.00      0.98        88\n",
      "       Faces_easy       1.00      0.98      0.99        86\n",
      "         Leopards       0.93      1.00      0.96        40\n",
      "       Motorbikes       1.00      1.00      1.00       144\n",
      "        accordion       0.90      1.00      0.95         9\n",
      "        airplanes       0.97      0.99      0.98       173\n",
      "           anchor       1.00      0.73      0.84        11\n",
      "              ant       0.80      0.33      0.47        12\n",
      "           barrel       1.00      0.88      0.93         8\n",
      "             bass       0.67      0.62      0.64        13\n",
      "           beaver       0.60      0.67      0.63         9\n",
      "        binocular       1.00      0.86      0.92         7\n",
      "           bonsai       0.91      1.00      0.95        29\n",
      "            brain       0.83      1.00      0.91        25\n",
      "     brontosaurus       0.43      0.43      0.43         7\n",
      "           buddha       0.78      0.82      0.80        17\n",
      "        butterfly       0.72      0.81      0.76        16\n",
      "           camera       1.00      1.00      1.00        12\n",
      "           cannon       0.70      0.64      0.67        11\n",
      "         car_side       1.00      1.00      1.00        27\n",
      "      ceiling_fan       1.00      0.83      0.91         6\n",
      "        cellphone       1.00      0.82      0.90        11\n",
      "            chair       0.77      0.83      0.80        12\n",
      "       chandelier       0.83      0.90      0.86        21\n",
      "      cougar_body       0.88      0.70      0.78        10\n",
      "      cougar_face       1.00      0.87      0.93        15\n",
      "             crab       0.73      0.61      0.67        18\n",
      "         crayfish       0.29      0.50      0.36        12\n",
      "        crocodile       0.83      0.29      0.43        17\n",
      "   crocodile_head       0.50      0.91      0.65        11\n",
      "              cup       0.88      1.00      0.93         7\n",
      "        dalmatian       1.00      0.94      0.97        18\n",
      "      dollar_bill       1.00      0.89      0.94         9\n",
      "          dolphin       0.89      0.80      0.84        10\n",
      "        dragonfly       0.87      0.87      0.87        15\n",
      "  electric_guitar       1.00      0.67      0.80        18\n",
      "         elephant       0.89      1.00      0.94        16\n",
      "              emu       1.00      0.82      0.90        11\n",
      "        euphonium       1.00      0.92      0.96        12\n",
      "             ewer       0.93      0.93      0.93        15\n",
      "            ferry       0.92      0.92      0.92        12\n",
      "         flamingo       0.93      0.93      0.93        14\n",
      "    flamingo_head       0.88      1.00      0.93         7\n",
      "         garfield       0.67      0.50      0.57         4\n",
      "          gerenuk       1.00      1.00      1.00         4\n",
      "       gramophone       0.90      0.90      0.90        10\n",
      "      grand_piano       0.95      0.95      0.95        21\n",
      "        hawksbill       0.77      0.85      0.81        20\n",
      "        headphone       1.00      0.70      0.82        10\n",
      "         hedgehog       0.78      0.88      0.82         8\n",
      "       helicopter       0.85      0.77      0.81        22\n",
      "             ibis       1.00      0.94      0.97        18\n",
      "     inline_skate       1.00      0.83      0.91         6\n",
      "      joshua_tree       1.00      0.93      0.97        15\n",
      "         kangaroo       0.77      0.77      0.77        13\n",
      "            ketch       0.77      0.95      0.85        21\n",
      "             lamp       0.93      0.88      0.90        16\n",
      "           laptop       0.94      1.00      0.97        17\n",
      "            llama       0.64      0.88      0.74        16\n",
      "          lobster       0.33      0.11      0.17         9\n",
      "            lotus       0.60      0.90      0.72        10\n",
      "         mandolin       0.62      1.00      0.77         5\n",
      "           mayfly       0.86      1.00      0.92         6\n",
      "          menorah       0.88      0.78      0.82         9\n",
      "        metronome       0.83      1.00      0.91         5\n",
      "          minaret       0.83      1.00      0.91        10\n",
      "         nautilus       0.90      0.82      0.86        11\n",
      "          octopus       1.00      0.33      0.50         6\n",
      "            okapi       1.00      0.71      0.83         7\n",
      "           pagoda       0.90      0.75      0.82        12\n",
      "            panda       0.92      0.92      0.92        12\n",
      "           pigeon       1.00      1.00      1.00         7\n",
      "            pizza       1.00      0.92      0.96        12\n",
      "         platypus       0.83      0.62      0.71         8\n",
      "          pyramid       0.89      1.00      0.94         8\n",
      "         revolver       0.91      0.91      0.91        11\n",
      "            rhino       0.91      0.77      0.83        13\n",
      "          rooster       1.00      0.90      0.95        10\n",
      "        saxophone       0.75      1.00      0.86         3\n",
      "         schooner       0.91      0.67      0.77        15\n",
      "         scissors       1.00      0.75      0.86         4\n",
      "         scorpion       0.56      0.78      0.65        18\n",
      "        sea_horse       0.58      0.78      0.67         9\n",
      "           snoopy       1.00      0.50      0.67         8\n",
      "      soccer_ball       0.90      1.00      0.95         9\n",
      "          stapler       0.86      0.86      0.86         7\n",
      "         starfish       0.70      0.93      0.80        15\n",
      "      stegosaurus       0.77      0.77      0.77        13\n",
      "        stop_sign       1.00      1.00      1.00        15\n",
      "       strawberry       0.86      1.00      0.92         6\n",
      "        sunflower       1.00      1.00      1.00        21\n",
      "             tick       0.83      0.83      0.83         6\n",
      "        trilobite       1.00      0.96      0.98        23\n",
      "         umbrella       1.00      0.95      0.98        22\n",
      "            watch       0.97      0.98      0.97        58\n",
      "      water_lilly       0.50      0.14      0.22         7\n",
      "       wheelchair       0.94      0.94      0.94        17\n",
      "         wild_cat       1.00      0.67      0.80         9\n",
      "    windsor_chair       1.00      0.83      0.91        12\n",
      "           wrench       0.62      0.83      0.71         6\n",
      "         yin_yang       0.89      0.80      0.84        10\n",
      "\n",
      "         accuracy                           0.88      1829\n",
      "        macro avg       0.86      0.83      0.83      1829\n",
      "     weighted avg       0.89      0.88      0.88      1829\n",
      "\n"
     ]
    },
    {
     "data": {
      "image/png": "[encoded data removed]",
      "text/plain": [
       "<Figure size 432x288 with 1 Axes>"
      ]
     },
     "metadata": {
      "tags": []
     },
     "output_type": "display_data"
    }
   ],
   "source": [
    "# Evaluation\n",
    "predictions = pre_trained_model_resnet.predict(x_test, batch_size=128)\n",
    "print(\"Evaluation: \",\n",
    "      \"\\n\",\n",
    "      classification_report(y_test.argmax(axis=1), predictions.argmax(axis=1), target_names = y_set)\n",
    "      )\n",
    "\n",
    "# # graphs\n",
    "# epochs is externally defined above in order to be implemented here\n",
    "plotting_model(resnet_aug, epochs)"
   ]
  },
  {
   "cell_type": "markdown",
   "metadata": {
    "id": "WURAqtxXleB5"
   },
   "source": [
    "- Con este modelo tenemos mejor accuracy y una mejor performance, atendiendo a la la gráfica. Igualmente, merecería la pena entrenarlo durante más épocas para estudiar cómo siguen convergiendo las curvas."
   ]
  },
  {
   "cell_type": "markdown",
   "metadata": {
    "id": "iXF4af_Ylfqn"
   },
   "source": [
    "- Fine-tuning: \n",
    "De nuevo, para las épocas entrenadas, no he obtenido mejoras significativas. "
   ]
  },
  {
   "cell_type": "markdown",
   "metadata": {
    "id": "g5odL-IMmAN8"
   },
   "source": [
    "# Estrategia 2: From scratch.\n",
    "\n",
    "Después de probar varias arquitecturas y configuraciones, este es mi resultado más interesante, basado en código que he visto por Medium/Github.\n",
    "\n",
    "- Añadido data augmentation\n",
    "- Añadido *l1&l2 regularization* \n",
    "\n",
    "Con todo esto, después de invertir bastante tiempo no he encontrado resultados realmente satisfactorios. "
   ]
  },
  {
   "cell_type": "code",
   "execution_count": 67,
   "metadata": {
    "id": "eVzOJoH6mkir"
   },
   "outputs": [],
   "source": [
    "model_scratch = Sequential()\n",
    "\n",
    "model_scratch.add(Conv2D(32, (5, 5), activation='relu', padding='same', input_shape=(128, 128, 3)))\n",
    "model_scratch.add(Conv2D(32, (3, 3), activation='relu'))\n",
    "model_scratch.add(MaxPooling2D(pool_size=(2, 2)))\n",
    "model_scratch.add(Dropout(0.5))\n",
    "\n",
    "model_scratch.add(Conv2D(64, (5, 5), activation='relu', padding='same'))\n",
    "model_scratch.add(Conv2D(64, (3, 3), activation='relu'))\n",
    "model_scratch.add(MaxPooling2D(pool_size=(2, 2)))\n",
    "model_scratch.add(BatchNormalization())\n",
    "model_scratch.add(Dropout(0.5))\n",
    "\n",
    "model_scratch.add(Flatten())\n",
    "\n",
    "model_scratch.add(Dense(512, activation='relu', \n",
    "                kernel_regularizer = l1_l2(l1=0.01, l2=0.01),\n",
    "                bias_regularizer = l2(0.01)))\n",
    "\n",
    "model_scratch.add(Dense(512, activation='relu',\n",
    "                kernel_regularizer = l1_l2(l1=0.01, l2=0.01),\n",
    "                bias_regularizer = l2(0.01)))\n",
    "\n",
    "model_scratch.add(BatchNormalization())\n",
    "model_scratch.add(Dropout(0.5))\n",
    "model_scratch.add(Dense(102, activation = 'softmax'))"
   ]
  },
  {
   "cell_type": "code",
   "execution_count": 68,
   "metadata": {
    "id": "xkDiMxCL7epa"
   },
   "outputs": [],
   "source": [
    "# Compiling\n",
    "model_scratch.compile(loss = \"categorical_crossentropy\", \n",
    "                              optimizer = Adam(learning_rate= 0.001, decay=0, beta_1=0.9, beta_2=0.999, epsilon=1e-08), \n",
    "                              metrics = [\"accuracy\"])"
   ]
  },
  {
   "cell_type": "code",
   "execution_count": 69,
   "metadata": {
    "colab": {
     "base_uri": "https://localhost:8080/"
    },
    "id": "xM4NvhGr7epb",
    "outputId": "12f63f62-83d5-4ae5-e21c-66ff9a997cf8"
   },
   "outputs": [
    {
     "name": "stdout",
     "output_type": "stream",
     "text": [
      "Epoch 1/15\n",
      "228/228 [==============================] - 62s 260ms/step - loss: 129.5045 - accuracy: 0.2293 - val_loss: 39.0852 - val_accuracy: 0.0759\n",
      "Epoch 2/15\n",
      "228/228 [==============================] - 60s 262ms/step - loss: 37.0175 - accuracy: 0.2987 - val_loss: 37.3622 - val_accuracy: 0.2112\n",
      "Epoch 3/15\n",
      "228/228 [==============================] - 64s 278ms/step - loss: 36.8810 - accuracy: 0.3167 - val_loss: 37.0763 - val_accuracy: 0.2912\n",
      "Epoch 4/15\n",
      "228/228 [==============================] - 62s 270ms/step - loss: 37.0376 - accuracy: 0.3262 - val_loss: 37.2192 - val_accuracy: 0.3014\n",
      "Epoch 5/15\n",
      "228/228 [==============================] - 64s 278ms/step - loss: 36.9611 - accuracy: 0.3336 - val_loss: 37.0262 - val_accuracy: 0.3260\n",
      "Epoch 6/15\n",
      "228/228 [==============================] - 62s 270ms/step - loss: 36.9852 - accuracy: 0.3437 - val_loss: 37.4992 - val_accuracy: 0.3137\n",
      "Epoch 7/15\n",
      "228/228 [==============================] - 64s 277ms/step - loss: 37.0320 - accuracy: 0.3550 - val_loss: 37.2012 - val_accuracy: 0.3295\n",
      "Epoch 8/15\n",
      "228/228 [==============================] - 62s 271ms/step - loss: 37.1979 - accuracy: 0.3599 - val_loss: 37.3744 - val_accuracy: 0.3520\n",
      "Epoch 9/15\n",
      "228/228 [==============================] - 63s 276ms/step - loss: 37.4939 - accuracy: 0.3655 - val_loss: 38.0188 - val_accuracy: 0.3650\n",
      "Epoch 10/15\n",
      "228/228 [==============================] - 59s 255ms/step - loss: 37.6166 - accuracy: 0.3794 - val_loss: 37.7551 - val_accuracy: 0.3233\n",
      "Epoch 11/15\n",
      "228/228 [==============================] - 59s 256ms/step - loss: 37.4427 - accuracy: 0.3858 - val_loss: 37.4865 - val_accuracy: 0.3828\n",
      "Epoch 12/15\n",
      "228/228 [==============================] - 59s 258ms/step - loss: 37.4623 - accuracy: 0.3915 - val_loss: 37.6505 - val_accuracy: 0.3917\n",
      "Epoch 13/15\n",
      "228/228 [==============================] - 69s 302ms/step - loss: 37.4399 - accuracy: 0.3994 - val_loss: 37.6647 - val_accuracy: 0.4081\n",
      "Epoch 14/15\n",
      "228/228 [==============================] - 58s 255ms/step - loss: 37.5449 - accuracy: 0.3992 - val_loss: 37.5960 - val_accuracy: 0.3855\n",
      "Epoch 15/15\n",
      "228/228 [==============================] - 68s 299ms/step - loss: 37.3707 - accuracy: 0.4070 - val_loss: 37.5336 - val_accuracy: 0.4163\n"
     ]
    }
   ],
   "source": [
    "# Data Augmentation\n",
    "epochs= 15\n",
    "model_aug = model_scratch.fit(data_generator.flow(x_train, y_train, batch_size = 128, subset = 'training'), \n",
    "                                    steps_per_epoch = len(x_train)*4/128, epochs = epochs, workers = 2,\n",
    "                                    validation_data = data_generator.flow(x_train, y_train, batch_size = 128, subset = 'validation'))"
   ]
  },
  {
   "cell_type": "code",
   "execution_count": 70,
   "metadata": {
    "id": "Uw4sn_ih7gTs"
   },
   "outputs": [],
   "source": [
    "# Saving model (por si me crashea colab)\n",
    "model_scratch.save(BASE_FOLDER+\"strategy_2_model_from_scratch_augmented.h5\")"
   ]
  },
  {
   "cell_type": "code",
   "execution_count": 71,
   "metadata": {
    "colab": {
     "base_uri": "https://localhost:8080/",
     "height": 1000
    },
    "id": "kS-b4duy7gTu",
    "outputId": "b6139b06-1cee-4079-a7bd-e0ad0da3e28f"
   },
   "outputs": [
    {
     "name": "stdout",
     "output_type": "stream",
     "text": [
      "Evaluation:  \n",
      "                    precision    recall  f1-score   support\n",
      "\n",
      "BACKGROUND_Google       0.13      0.61      0.21        83\n",
      "            Faces       0.93      1.00      0.96        88\n",
      "       Faces_easy       0.93      0.95      0.94        86\n",
      "         Leopards       0.36      0.93      0.51        40\n",
      "       Motorbikes       0.96      0.94      0.95       144\n",
      "        accordion       0.57      0.44      0.50         9\n",
      "        airplanes       0.94      0.99      0.96       173\n",
      "           anchor       0.00      0.00      0.00        11\n",
      "              ant       0.00      0.00      0.00        12\n",
      "           barrel       0.00      0.00      0.00         8\n",
      "             bass       0.00      0.00      0.00        13\n",
      "           beaver       0.00      0.00      0.00         9\n",
      "        binocular       0.00      0.00      0.00         7\n",
      "           bonsai       0.24      0.66      0.36        29\n",
      "            brain       0.00      0.00      0.00        25\n",
      "     brontosaurus       0.00      0.00      0.00         7\n",
      "           buddha       0.00      0.00      0.00        17\n",
      "        butterfly       0.00      0.00      0.00        16\n",
      "           camera       0.33      0.08      0.13        12\n",
      "           cannon       0.00      0.00      0.00        11\n",
      "         car_side       1.00      0.74      0.85        27\n",
      "      ceiling_fan       0.00      0.00      0.00         6\n",
      "        cellphone       0.17      0.18      0.17        11\n",
      "            chair       0.00      0.00      0.00        12\n",
      "       chandelier       0.42      0.24      0.30        21\n",
      "      cougar_body       0.00      0.00      0.00        10\n",
      "      cougar_face       0.20      0.20      0.20        15\n",
      "             crab       0.00      0.00      0.00        18\n",
      "         crayfish       0.00      0.00      0.00        12\n",
      "        crocodile       0.40      0.12      0.18        17\n",
      "   crocodile_head       0.12      0.09      0.11        11\n",
      "              cup       0.00      0.00      0.00         7\n",
      "        dalmatian       0.33      0.11      0.17        18\n",
      "      dollar_bill       0.50      0.22      0.31         9\n",
      "          dolphin       1.00      0.10      0.18        10\n",
      "        dragonfly       0.00      0.00      0.00        15\n",
      "  electric_guitar       1.00      0.06      0.11        18\n",
      "         elephant       0.00      0.00      0.00        16\n",
      "              emu       0.07      0.55      0.12        11\n",
      "        euphonium       0.45      0.42      0.43        12\n",
      "             ewer       0.20      0.33      0.25        15\n",
      "            ferry       0.17      0.08      0.11        12\n",
      "         flamingo       0.00      0.00      0.00        14\n",
      "    flamingo_head       0.00      0.00      0.00         7\n",
      "         garfield       1.00      0.25      0.40         4\n",
      "          gerenuk       0.00      0.00      0.00         4\n",
      "       gramophone       0.00      0.00      0.00        10\n",
      "      grand_piano       0.31      0.48      0.38        21\n",
      "        hawksbill       0.23      0.35      0.27        20\n",
      "        headphone       0.00      0.00      0.00        10\n",
      "         hedgehog       0.00      0.00      0.00         8\n",
      "       helicopter       0.18      0.09      0.12        22\n",
      "             ibis       0.00      0.00      0.00        18\n",
      "     inline_skate       0.00      0.00      0.00         6\n",
      "      joshua_tree       0.00      0.00      0.00        15\n",
      "         kangaroo       0.10      0.23      0.14        13\n",
      "            ketch       0.31      0.62      0.41        21\n",
      "             lamp       0.00      0.00      0.00        16\n",
      "           laptop       0.33      0.18      0.23        17\n",
      "            llama       0.00      0.00      0.00        16\n",
      "          lobster       0.00      0.00      0.00         9\n",
      "            lotus       0.25      0.50      0.33        10\n",
      "         mandolin       0.00      0.00      0.00         5\n",
      "           mayfly       0.00      0.00      0.00         6\n",
      "          menorah       0.33      0.11      0.17         9\n",
      "        metronome       0.00      0.00      0.00         5\n",
      "          minaret       0.31      0.40      0.35        10\n",
      "         nautilus       0.00      0.00      0.00        11\n",
      "          octopus       0.00      0.00      0.00         6\n",
      "            okapi       0.00      0.00      0.00         7\n",
      "           pagoda       0.00      0.00      0.00        12\n",
      "            panda       0.00      0.00      0.00        12\n",
      "           pigeon       0.00      0.00      0.00         7\n",
      "            pizza       0.28      0.67      0.39        12\n",
      "         platypus       0.00      0.00      0.00         8\n",
      "          pyramid       0.20      0.12      0.15         8\n",
      "         revolver       0.20      0.27      0.23        11\n",
      "            rhino       0.00      0.00      0.00        13\n",
      "          rooster       0.00      0.00      0.00        10\n",
      "        saxophone       0.00      0.00      0.00         3\n",
      "         schooner       0.22      0.13      0.17        15\n",
      "         scissors       0.00      0.00      0.00         4\n",
      "         scorpion       0.33      0.11      0.17        18\n",
      "        sea_horse       0.00      0.00      0.00         9\n",
      "           snoopy       0.00      0.00      0.00         8\n",
      "      soccer_ball       0.12      0.11      0.12         9\n",
      "          stapler       0.33      0.14      0.20         7\n",
      "         starfish       0.25      0.13      0.17        15\n",
      "      stegosaurus       0.00      0.00      0.00        13\n",
      "        stop_sign       0.81      0.87      0.84        15\n",
      "       strawberry       0.50      0.17      0.25         6\n",
      "        sunflower       0.44      0.76      0.56        21\n",
      "             tick       0.00      0.00      0.00         6\n",
      "        trilobite       0.34      0.65      0.45        23\n",
      "         umbrella       0.40      0.09      0.15        22\n",
      "            watch       0.60      0.21      0.31        58\n",
      "      water_lilly       0.00      0.00      0.00         7\n",
      "       wheelchair       0.00      0.00      0.00        17\n",
      "         wild_cat       0.20      0.33      0.25         9\n",
      "    windsor_chair       0.50      0.75      0.60        12\n",
      "           wrench       0.00      0.00      0.00         6\n",
      "         yin_yang       0.62      0.50      0.56        10\n",
      "\n",
      "         accuracy                           0.43      1829\n",
      "        macro avg       0.21      0.19      0.17      1829\n",
      "     weighted avg       0.41      0.43      0.39      1829\n",
      "\n"
     ]
    },
    {
     "name": "stderr",
     "output_type": "stream",
     "text": [
      "/usr/local/lib/python3.7/dist-packages/sklearn/metrics/_classification.py:1272: UndefinedMetricWarning: Precision and F-score are ill-defined and being set to 0.0 in labels with no predicted samples. Use `zero_division` parameter to control this behavior.\n",
      "  _warn_prf(average, modifier, msg_start, len(result))\n"
     ]
    },
    {
     "data": {
      "image/png": "[encoded data removed]",
      "text/plain": [
       "<Figure size 432x288 with 1 Axes>"
      ]
     },
     "metadata": {
      "tags": []
     },
     "output_type": "display_data"
    }
   ],
   "source": [
    "# Evaluation\n",
    "predictions = model_scratch.predict(x_test, batch_size=128)\n",
    "print(\"Evaluation: \",\n",
    "      \"\\n\",\n",
    "      classification_report(y_test.argmax(axis=1), predictions.argmax(axis=1), target_names = y_set)\n",
    "      )\n",
    "\n",
    "# # graphs\n",
    "# epochs is externally defined above in order to be implemented here\n",
    "plotting_model(model_aug, epochs)"
   ]
  },
  {
   "cell_type": "markdown",
   "metadata": {
    "id": "hxcfY_oZoEBx"
   },
   "source": [
    "Resultados trágicos donde los haya.\n",
    "\n",
    "- Después de una mejora de la función de pérdida en el *training set*, *training loss* y *validation loss* realizan una mejora al final de todas las iteraciones insignificante.\n",
    "\n",
    "- Lo mismo podemos decir de *accuracy* en el *training* y *validation set*.\n",
    "Podemos decir que el modelo no aprende, y su accuracy no es satisfactorio.\n",
    "\n",
    "- Quizás atacar un problema multiclase con muchas clases, usando una red *from scratch* no sea la forma óptima de proceder."
   ]
  },
  {
   "cell_type": "markdown",
   "metadata": {
    "id": "ib7IPPiQoE5W"
   },
   "source": [
    "# Conclusiones.\n",
    "\n",
    "Si no estamos trabajando en un problema muy sencillo, quizás la mejor forma de empezar a atacarlo es usar un modelo ya entrenado para ese propósito, y terminar de perfilarlo para nuestro caso particular (con *fine-tuning*, etc).\n",
    "\n",
    "Me hubiera gustado usar más iteraciones a la hora de entrenar los modelos. Sin duda tendría mejores métricas, pero se me dispara el tiempo de computación.\n",
    "\n",
    "Es necesario un preprocesamiento exhaustivo del dataset para intentar balancear todas las clases involucradas, evitando que no se pierdan las clases minoritarias y se sobre-aprendan las más pobladas."
   ]
  }
 ],
 "metadata": {
  "accelerator": "GPU",
  "colab": {
   "collapsed_sections": [],
   "machine_shape": "hm",
   "name": "07MAIR_Actividad 1-Alberto_Vargas.ipynb",
   "provenance": []
  },
  "kernelspec": {
   "display_name": "Python 3",
   "language": "python",
   "name": "python3"
  },
  "language_info": {
   "codemirror_mode": {
    "name": "ipython",
    "version": 3
   },
   "file_extension": ".py",
   "mimetype": "text/x-python",
   "name": "python",
   "nbconvert_exporter": "python",
   "pygments_lexer": "ipython3",
   "version": "3.7.6"
  }
 },
 "nbformat": 4,
 "nbformat_minor": 4
}
